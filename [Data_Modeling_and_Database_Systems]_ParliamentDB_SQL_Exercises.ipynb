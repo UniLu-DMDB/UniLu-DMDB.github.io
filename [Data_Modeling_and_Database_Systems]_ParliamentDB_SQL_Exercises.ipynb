{
  "nbformat": 4,
  "nbformat_minor": 0,
  "metadata": {
    "colab": {
      "provenance": [],
      "authorship_tag": "ABX9TyPfKEu7CSsL7Hcj1Gxwb3re",
      "include_colab_link": true
    },
    "kernelspec": {
      "name": "python3",
      "display_name": "Python 3"
    },
    "language_info": {
      "name": "python"
    }
  },
  "cells": [
    {
      "cell_type": "markdown",
      "metadata": {
        "id": "view-in-github",
        "colab_type": "text"
      },
      "source": [
        "<a href=\"https://colab.research.google.com/github/ivangiangreco/tmp/blob/main/%5BData_Modeling_and_Database_Systems%5D_ParliamentDB_SQL_Exercises.ipynb\" target=\"_parent\"><img src=\"https://colab.research.google.com/assets/colab-badge.svg\" alt=\"Open In Colab\"/></a>"
      ]
    },
    {
      "cell_type": "markdown",
      "source": [
        "University of Lucerne\n",
        "\n",
        "Data Modeling and Database Systems\n",
        "\n",
        "# Exercises - ParliamentDB\n"
      ],
      "metadata": {
        "id": "g53qRDNumzMt"
      }
    },
    {
      "cell_type": "markdown",
      "source": [
        "## 1. Preparation\n",
        "\n",
        "We start by setting up a connection to our Parliament database, Parliament.db."
      ],
      "metadata": {
        "id": "QspxbqXvn-OL"
      }
    },
    {
      "cell_type": "code",
      "source": [
        "# download SQLite DB\n",
        "!wget https://unilu-dmdb.github.io/data/Parliament.db"
      ],
      "metadata": {
        "id": "z4RkyVQSmzcB"
      },
      "execution_count": null,
      "outputs": []
    },
    {
      "cell_type": "code",
      "execution_count": null,
      "metadata": {
        "id": "MFRaS-9HmE7p"
      },
      "outputs": [],
      "source": [
        "# load the SQL magic extension\n",
        "# https://github.com/catherinedevlin/ipython-sql\n",
        "# this extension allows us to connect to DBs and issue SQL command\n",
        "%load_ext sql\n",
        "\n",
        "# now we can use the magic extension to connect to our SQLite DB\n",
        "# use %sql to write an inline SQL command\n",
        "# use %%sql to write SQL commands in a cell\n",
        "%sql sqlite:///Parliament.db"
      ]
    },
    {
      "cell_type": "markdown",
      "source": [
        "For this exercise, we're utilizing SQLite 3. It's a compact and rapid relational database engine. SQLite databases are self-contained: each one resides in just a single file. Surprisingly, SQLite stands as the most utilized database engine globally. It's integrated into countless mobile devices (like Android or iOS phones) and serves as the backbone for storing data in numerous popular applications."
      ],
      "metadata": {
        "id": "jBFEYtW7oJa3"
      }
    },
    {
      "cell_type": "markdown",
      "source": [
        "The following tables are present in the file you just downloaded:"
      ],
      "metadata": {
        "id": "UhcAlAxDo1G_"
      }
    },
    {
      "cell_type": "code",
      "source": [
        "%%sql\n",
        "SELECT name FROM sqlite_master WHERE type='table' AND name NOT LIKE 'sqlite_%';"
      ],
      "metadata": {
        "id": "zP6kWccSnlv7"
      },
      "execution_count": null,
      "outputs": []
    },
    {
      "cell_type": "markdown",
      "source": [
        "## 2. Exercises"
      ],
      "metadata": {
        "id": "R2uYSOUto7Yx"
      }
    },
    {
      "cell_type": "markdown",
      "source": [
        "List the titles of all bills that have not yet been voted on (i.e., `status` is *introduced* or *debated*) ordered by the date of introduction (`DateOfInt`) in descending order."
      ],
      "metadata": {
        "id": "wMNTha4LtSVA"
      }
    },
    {
      "cell_type": "code",
      "source": [
        "%%sql\n"
      ],
      "metadata": {
        "id": "rFnrK7RDtAHn"
      },
      "execution_count": null,
      "outputs": []
    },
    {
      "cell_type": "markdown",
      "source": [
        "List all members of parliament (`FName`, `LName`) together with the name of their party (`Party`). Note that some MPs are not associated with any party and you should still return their names."
      ],
      "metadata": {
        "id": "NNaPi7wEtrGc"
      }
    },
    {
      "cell_type": "code",
      "source": [
        "%%sql\n"
      ],
      "metadata": {
        "id": "01ZU0jDgtdq5"
      },
      "execution_count": null,
      "outputs": []
    },
    {
      "cell_type": "markdown",
      "source": [
        "List for each constituency the average age (making use of the aggregation function `AVG(·)`) of its members of parliament."
      ],
      "metadata": {
        "id": "4f0o4bpctzKl"
      }
    },
    {
      "cell_type": "code",
      "source": [
        "%%sql\n"
      ],
      "metadata": {
        "id": "ZZmYkLdnty5a"
      },
      "execution_count": null,
      "outputs": []
    },
    {
      "cell_type": "markdown",
      "source": [
        "List the names of the parties whose MPs have at least one successfully introduced bill (`status` is *passed*) together with the number of bills. You may ignore bills by MPs without party association."
      ],
      "metadata": {
        "id": "Y2c6eYEAt827"
      }
    },
    {
      "cell_type": "code",
      "source": [
        "%%sql\n"
      ],
      "metadata": {
        "id": "ZNnvmFwTtxHw"
      },
      "execution_count": null,
      "outputs": []
    },
    {
      "cell_type": "markdown",
      "source": [
        "Return all members of parliament who have not cast any vote yet (i.e., there is no entry in `Votes` with their `MID`)."
      ],
      "metadata": {
        "id": "WSnd0NXluZRs"
      }
    },
    {
      "cell_type": "code",
      "source": [
        "%%sql\n"
      ],
      "metadata": {
        "id": "fu9i5wiVuTTz"
      },
      "execution_count": null,
      "outputs": []
    },
    {
      "cell_type": "markdown",
      "source": [
        "Find the top 3 bills (`BID`, `Title`) that have the most sponsors. Order the results in descending order."
      ],
      "metadata": {
        "id": "Sr88eCilufa8"
      }
    },
    {
      "cell_type": "code",
      "source": [
        "%%sql\n"
      ],
      "metadata": {
        "id": "nEojxtzAuc7t"
      },
      "execution_count": null,
      "outputs": []
    },
    {
      "cell_type": "markdown",
      "source": [
        "Return all members of parliament (`MID`, `FName` and `LName`) that abstained (`vote` is *abstention*) in at least 3 bills together with the number of abstentions."
      ],
      "metadata": {
        "id": "VhrJxZKPun0_"
      }
    },
    {
      "cell_type": "code",
      "source": [
        "%%sql\n"
      ],
      "metadata": {
        "id": "yeXkkT-FuknX"
      },
      "execution_count": null,
      "outputs": []
    },
    {
      "cell_type": "markdown",
      "source": [
        "Return the (`DISTINCT`) title of each bill introduced or sponsored by a member of the *Gravity Party*."
      ],
      "metadata": {
        "id": "fNQFO2Lnu0el"
      }
    },
    {
      "cell_type": "code",
      "source": [
        "%%sql\n"
      ],
      "metadata": {
        "id": "8CfCXePcuxhB"
      },
      "execution_count": null,
      "outputs": []
    },
    {
      "cell_type": "markdown",
      "source": [
        "Return for each bill that was not passed by the parliament (`status` is *failed*) the number of yes and the number no votes (you may ignore the abstentions). The result schema should look as follows (without the need to mimic the data):"
      ],
      "metadata": {
        "id": "NUB7A7hYvDSB"
      }
    },
    {
      "cell_type": "markdown",
      "source": [
        "\\begin{array}{ccc}\n",
        "BID&Title&Description&Status&yes&no\\\\\n",
        "42&\\text{The Anti-Gravity Act}&...&\\text{failed}&34&52\n",
        "\\end{array}"
      ],
      "metadata": {
        "id": "YdVkIW3VwYaE"
      }
    },
    {
      "cell_type": "code",
      "source": [
        "%%sql\n"
      ],
      "metadata": {
        "id": "zddGBT53u8yO"
      },
      "execution_count": null,
      "outputs": []
    }
  ]
}