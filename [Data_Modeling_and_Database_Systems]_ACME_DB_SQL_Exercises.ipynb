{
  "nbformat": 4,
  "nbformat_minor": 0,
  "metadata": {
    "colab": {
      "provenance": [],
      "authorship_tag": "ABX9TyM8K7ckn0MjyZIonQ3aJ3KZ",
      "include_colab_link": true
    },
    "kernelspec": {
      "name": "python3",
      "display_name": "Python 3"
    },
    "language_info": {
      "name": "python"
    }
  },
  "cells": [
    {
      "cell_type": "markdown",
      "metadata": {
        "id": "view-in-github",
        "colab_type": "text"
      },
      "source": [
        "<a href=\"https://colab.research.google.com/github/ivangiangreco/tmp/blob/main/%5BData_Modeling_and_Database_Systems%5D_ACME_DB_SQL_Exercises.ipynb\" target=\"_parent\"><img src=\"https://colab.research.google.com/assets/colab-badge.svg\" alt=\"Open In Colab\"/></a>"
      ]
    },
    {
      "cell_type": "markdown",
      "source": [
        "University of Lucerne\n",
        "\n",
        "Data Modeling and Database Systems\n",
        "\n",
        "# Exercises - Reverse Engineering - Solutions\n"
      ],
      "metadata": {
        "id": "g53qRDNumzMt"
      }
    },
    {
      "cell_type": "markdown",
      "source": [
        "## 1. Preparation\n",
        "\n",
        "We start by setting up a connection to our ACME database, acme.db."
      ],
      "metadata": {
        "id": "QspxbqXvn-OL"
      }
    },
    {
      "cell_type": "code",
      "source": [
        "# download SQLite DB\n",
        "!wget https://unilu-dmdb.github.io/data/acme.db"
      ],
      "metadata": {
        "id": "z4RkyVQSmzcB"
      },
      "execution_count": null,
      "outputs": []
    },
    {
      "cell_type": "code",
      "execution_count": null,
      "metadata": {
        "id": "MFRaS-9HmE7p"
      },
      "outputs": [],
      "source": [
        "# load the SQL magic extension\n",
        "# https://github.com/catherinedevlin/ipython-sql\n",
        "# this extension allows us to connect to DBs and issue SQL command\n",
        "%load_ext sql\n",
        "\n",
        "# now we can use the magic extension to connect to our SQLite DB\n",
        "# use %sql to write an inline SQL command\n",
        "# use %%sql to write SQL commands in a cell\n",
        "%sql sqlite:///acme.db"
      ]
    },
    {
      "cell_type": "markdown",
      "source": [
        "For this exercise, we're utilizing SQLite 3. It's a compact and rapid relational database engine. SQLite databases are self-contained: each one resides in just a single file. Surprisingly, SQLite stands as the most utilized database engine globally. It's integrated into countless mobile devices (like Android or iOS phones) and serves as the backbone for storing data in numerous popular applications."
      ],
      "metadata": {
        "id": "jBFEYtW7oJa3"
      }
    },
    {
      "cell_type": "markdown",
      "source": [
        "## 2. Exercises"
      ],
      "metadata": {
        "id": "R2uYSOUto7Yx"
      }
    },
    {
      "cell_type": "markdown",
      "source": [
        "What tables are present?"
      ],
      "metadata": {
        "id": "UhcAlAxDo1G_"
      }
    },
    {
      "cell_type": "code",
      "source": [
        "%%sql\n",
        "SELECT name FROM sqlite_master WHERE type='table' AND name NOT LIKE 'sqlite_%';"
      ],
      "metadata": {
        "id": "zP6kWccSnlv7"
      },
      "execution_count": null,
      "outputs": []
    },
    {
      "cell_type": "markdown",
      "source": [
        "What is their structure? What does some exemplary data look like?"
      ],
      "metadata": {
        "id": "qr3C67wh7Ol9"
      }
    },
    {
      "cell_type": "code",
      "source": [
        "%sql PRAGMA table_info([company]);"
      ],
      "metadata": {
        "id": "pFK3oV9m7Pnx"
      },
      "execution_count": null,
      "outputs": []
    },
    {
      "cell_type": "code",
      "source": [
        "%%sql\n",
        "SELECT *\n",
        "FROM company\n",
        "LIMIT 5"
      ],
      "metadata": {
        "id": "S2OKi2TP7xiY"
      },
      "execution_count": null,
      "outputs": []
    },
    {
      "cell_type": "code",
      "source": [
        "%sql PRAGMA table_info([customers]);"
      ],
      "metadata": {
        "id": "OBYeYl2N7Wki"
      },
      "execution_count": null,
      "outputs": []
    },
    {
      "cell_type": "code",
      "source": [
        "%%sql\n",
        "SELECT *\n",
        "FROM customers\n",
        "LIMIT 5"
      ],
      "metadata": {
        "id": "j8H831C571K7"
      },
      "execution_count": null,
      "outputs": []
    },
    {
      "cell_type": "code",
      "source": [
        "%sql PRAGMA table_info([dates]);"
      ],
      "metadata": {
        "id": "wA3tvUuL7apS"
      },
      "execution_count": null,
      "outputs": []
    },
    {
      "cell_type": "code",
      "source": [
        "%%sql\n",
        "SELECT *\n",
        "FROM dates\n",
        "LIMIT 5"
      ],
      "metadata": {
        "id": "Xp078W8K7265"
      },
      "execution_count": null,
      "outputs": []
    },
    {
      "cell_type": "code",
      "source": [
        "%sql PRAGMA table_info([dayofweek]);"
      ],
      "metadata": {
        "id": "MVOA5xTU7cWc"
      },
      "execution_count": null,
      "outputs": []
    },
    {
      "cell_type": "code",
      "source": [
        "%%sql\n",
        "SELECT *\n",
        "FROM dayofweek\n",
        "LIMIT 5"
      ],
      "metadata": {
        "id": "bf4w43Gl74I0"
      },
      "execution_count": null,
      "outputs": []
    },
    {
      "cell_type": "code",
      "source": [
        "%sql PRAGMA table_info([invoice]);"
      ],
      "metadata": {
        "id": "q2tG-spO7hcd"
      },
      "execution_count": null,
      "outputs": []
    },
    {
      "cell_type": "code",
      "source": [
        "%%sql\n",
        "SELECT *\n",
        "FROM invoice\n",
        "LIMIT 5"
      ],
      "metadata": {
        "id": "zIVcn7Wi75mT"
      },
      "execution_count": null,
      "outputs": []
    },
    {
      "cell_type": "code",
      "source": [
        "%sql PRAGMA table_info([marketing]);"
      ],
      "metadata": {
        "id": "K8IjIExR7ndU"
      },
      "execution_count": null,
      "outputs": []
    },
    {
      "cell_type": "code",
      "source": [
        "%%sql\n",
        "SELECT *\n",
        "FROM marketing\n",
        "LIMIT 5"
      ],
      "metadata": {
        "id": "HW1OX31r771R"
      },
      "execution_count": null,
      "outputs": []
    },
    {
      "cell_type": "code",
      "source": [
        "%sql PRAGMA table_info([orders2]);"
      ],
      "metadata": {
        "id": "U_FRogYq7pND"
      },
      "execution_count": null,
      "outputs": []
    },
    {
      "cell_type": "code",
      "source": [
        "%%sql\n",
        "SELECT *\n",
        "FROM orders2\n",
        "LIMIT 5"
      ],
      "metadata": {
        "id": "81Nl2zzc789o"
      },
      "execution_count": null,
      "outputs": []
    },
    {
      "cell_type": "code",
      "source": [
        "%sql PRAGMA table_info([price]);"
      ],
      "metadata": {
        "id": "86N60j5R7qmH"
      },
      "execution_count": null,
      "outputs": []
    },
    {
      "cell_type": "code",
      "source": [
        "%%sql\n",
        "SELECT *\n",
        "FROM price\n",
        "LIMIT 5"
      ],
      "metadata": {
        "id": "Eqoff1Sh7-N3"
      },
      "execution_count": null,
      "outputs": []
    }
  ]
}