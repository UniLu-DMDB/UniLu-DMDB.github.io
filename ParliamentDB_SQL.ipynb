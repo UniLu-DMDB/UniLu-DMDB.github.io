{
  "nbformat": 4,
  "nbformat_minor": 0,
  "metadata": {
    "colab": {
      "provenance": [],
      "authorship_tag": "ABX9TyM1jZIjrspdI74uclDiJ5UM",
      "include_colab_link": true
    },
    "kernelspec": {
      "name": "python3",
      "display_name": "Python 3"
    },
    "language_info": {
      "name": "python"
    }
  },
  "cells": [
    {
      "cell_type": "markdown",
      "metadata": {
        "id": "view-in-github",
        "colab_type": "text"
      },
      "source": [
        "<a href=\"https://colab.research.google.com/github/UniLu-DMDB/UniLu-DMDB.github.io/blob/main/%5BData_Modeling_and_Database_Systems%5D_ParliamentDB_SQL.ipynb\" target=\"_parent\"><img src=\"https://colab.research.google.com/assets/colab-badge.svg\" alt=\"Open In Colab\"/></a>"
      ]
    },
    {
      "cell_type": "markdown",
      "source": [
        "University of Lucerne\n",
        "\n",
        "Data Modeling and Database Systems\n",
        "\n",
        "# Exercises - ParliamentDB - SQL\n"
      ],
      "metadata": {
        "id": "g53qRDNumzMt"
      }
    },
    {
      "cell_type": "markdown",
      "source": [
        "## 1. Preparation\n",
        "\n",
        "We start by setting up a connection to our Parliament database, Parliament.db."
      ],
      "metadata": {
        "id": "QspxbqXvn-OL"
      }
    },
    {
      "cell_type": "code",
      "source": [
        "# download SQLite DB\n",
        "!wget https://unilu-dmdb.github.io/data/Parliament.db"
      ],
      "metadata": {
        "colab": {
          "base_uri": "https://localhost:8080/"
        },
        "id": "z4RkyVQSmzcB",
        "outputId": "c8e5e0e0-0383-457a-efda-1e856a758e7b"
      },
      "execution_count": 1,
      "outputs": [
        {
          "output_type": "stream",
          "name": "stdout",
          "text": [
            "--2024-02-15 15:30:36--  https://unilu-dmdb.github.io/data/Parliament.db\n",
            "Resolving unilu-dmdb.github.io (unilu-dmdb.github.io)... 185.199.108.153, 185.199.109.153, 185.199.110.153, ...\n",
            "Connecting to unilu-dmdb.github.io (unilu-dmdb.github.io)|185.199.108.153|:443... connected.\n",
            "HTTP request sent, awaiting response... 200 OK\n",
            "Length: 45056 (44K) [application/octet-stream]\n",
            "Saving to: ‘Parliament.db’\n",
            "\n",
            "\rParliament.db         0%[                    ]       0  --.-KB/s               \rParliament.db       100%[===================>]  44.00K  --.-KB/s    in 0.01s   \n",
            "\n",
            "2024-02-15 15:30:37 (3.33 MB/s) - ‘Parliament.db’ saved [45056/45056]\n",
            "\n"
          ]
        }
      ]
    },
    {
      "cell_type": "code",
      "execution_count": 2,
      "metadata": {
        "id": "MFRaS-9HmE7p"
      },
      "outputs": [],
      "source": [
        "# load the SQL magic extension\n",
        "# https://github.com/catherinedevlin/ipython-sql\n",
        "# this extension allows us to connect to DBs and issue SQL command\n",
        "%load_ext sql\n",
        "\n",
        "# now we can use the magic extension to connect to our SQLite DB\n",
        "# use %sql to write an inline SQL command\n",
        "# use %%sql to write SQL commands in a cell\n",
        "%sql sqlite:///Parliament.db"
      ]
    },
    {
      "cell_type": "markdown",
      "source": [
        "## 2. Exercises"
      ],
      "metadata": {
        "id": "R2uYSOUto7Yx"
      }
    },
    {
      "cell_type": "markdown",
      "source": [
        "Fill in the solutions and compare them to the results shown. If you want to see how to get to the results, click on \"Show code\" below the title \"Solution\"."
      ],
      "metadata": {
        "id": "a6kAXlpIQmYR"
      }
    },
    {
      "cell_type": "markdown",
      "source": [
        "### List the titles of all bills that have not yet been voted on (i.e., `status` is *introduced* or *debated*) ordered by the date of introduction (`DateOfInt`) in descending order."
      ],
      "metadata": {
        "id": "wMNTha4LtSVA"
      }
    },
    {
      "cell_type": "code",
      "source": [
        "%%sql\n",
        "<<YOUR SOLUTION>>"
      ],
      "metadata": {
        "id": "WKLldNBvQjz9"
      },
      "execution_count": null,
      "outputs": []
    },
    {
      "cell_type": "code",
      "source": [
        "#@title Solution\n",
        "%%sql\n",
        "SELECT Title\n",
        "FROM Bills\n",
        "WHERE status IN ('introduced', 'debated')\n",
        "ORDER BY DateOfInt DESC"
      ],
      "metadata": {
        "colab": {
          "base_uri": "https://localhost:8080/",
          "height": 200
        },
        "id": "rFnrK7RDtAHn",
        "outputId": "1ec8c496-0161-4595-c495-60eb0b3ce9c5",
        "cellView": "form"
      },
      "execution_count": 5,
      "outputs": [
        {
          "output_type": "stream",
          "name": "stdout",
          "text": [
            " * sqlite:///Parliament.db\n",
            "Done.\n"
          ]
        },
        {
          "output_type": "execute_result",
          "data": {
            "text/plain": [
              "[('The Eclair Appreciation Day Act',),\n",
              " ('The Bubble Wrap Ban',),\n",
              " ('The Onion Breath Regulation Act',),\n",
              " ('The Maple Syrup Act',),\n",
              " ('The Giraffe Height Limitation Act',),\n",
              " ('The Syrup Sipping Incentive',)]"
            ],
            "text/html": [
              "<table>\n",
              "    <thead>\n",
              "        <tr>\n",
              "            <th>Title</th>\n",
              "        </tr>\n",
              "    </thead>\n",
              "    <tbody>\n",
              "        <tr>\n",
              "            <td>The Eclair Appreciation Day Act</td>\n",
              "        </tr>\n",
              "        <tr>\n",
              "            <td>The Bubble Wrap Ban</td>\n",
              "        </tr>\n",
              "        <tr>\n",
              "            <td>The Onion Breath Regulation Act</td>\n",
              "        </tr>\n",
              "        <tr>\n",
              "            <td>The Maple Syrup Act</td>\n",
              "        </tr>\n",
              "        <tr>\n",
              "            <td>The Giraffe Height Limitation Act</td>\n",
              "        </tr>\n",
              "        <tr>\n",
              "            <td>The Syrup Sipping Incentive</td>\n",
              "        </tr>\n",
              "    </tbody>\n",
              "</table>"
            ]
          },
          "metadata": {},
          "execution_count": 5
        }
      ]
    },
    {
      "cell_type": "markdown",
      "source": [
        "### List all members of parliament (`FName`, `LName`) together with the name of their party (`Party`). Note that some MPs are not associated with any party and you should nevertheless include their names in the result list."
      ],
      "metadata": {
        "id": "NNaPi7wEtrGc"
      }
    },
    {
      "cell_type": "code",
      "source": [
        "%%sql\n",
        "<<YOUR SOLUTION>>"
      ],
      "metadata": {
        "id": "Sncn5RFmQsIu"
      },
      "execution_count": null,
      "outputs": []
    },
    {
      "cell_type": "code",
      "source": [
        "#@title Solution\n",
        "%%sql\n",
        "SELECT FName, LName, Party\n",
        "FROM MembersOFParliament\n",
        "LEFT JOIN Parties USING (PID)"
      ],
      "metadata": {
        "colab": {
          "base_uri": "https://localhost:8080/",
          "height": 368
        },
        "id": "01ZU0jDgtdq5",
        "outputId": "d011fb61-e0b3-4673-b710-30cfbc550bc4",
        "cellView": "form"
      },
      "execution_count": 6,
      "outputs": [
        {
          "output_type": "stream",
          "name": "stdout",
          "text": [
            " * sqlite:///Parliament.db\n",
            "Done.\n"
          ]
        },
        {
          "output_type": "execute_result",
          "data": {
            "text/plain": [
              "[('Isaac', 'Noodleton', 'Gravity Party'),\n",
              " ('Gigglyeye', 'Galilei', 'Gravity Party'),\n",
              " ('Winston', 'Waffle', 'Brunch Party'),\n",
              " ('Samantha', 'Syrup', 'Brunch Party'),\n",
              " ('Larry', 'Lettuce', None),\n",
              " ('Fiona', 'Fizzle', 'Muffin Party'),\n",
              " ('Harry', 'Hiccup', 'Waffle Party'),\n",
              " ('Oliver', 'Onion', 'Pancake Party'),\n",
              " ('Gwendolyn', 'Giraffe', 'Pancake Party'),\n",
              " ('Peter', 'Pickle', 'Brunch Party'),\n",
              " ('Emily', 'Eclair', 'Muffin Party'),\n",
              " ('Roger', 'Rocket', 'Gravity Party'),\n",
              " ('Giuseppe', 'Spaghetti', 'Gravity Party'),\n",
              " ('Maria', 'Ravioli', 'Gravity Party')]"
            ],
            "text/html": [
              "<table>\n",
              "    <thead>\n",
              "        <tr>\n",
              "            <th>FName</th>\n",
              "            <th>LName</th>\n",
              "            <th>Party</th>\n",
              "        </tr>\n",
              "    </thead>\n",
              "    <tbody>\n",
              "        <tr>\n",
              "            <td>Isaac</td>\n",
              "            <td>Noodleton</td>\n",
              "            <td>Gravity Party</td>\n",
              "        </tr>\n",
              "        <tr>\n",
              "            <td>Gigglyeye</td>\n",
              "            <td>Galilei</td>\n",
              "            <td>Gravity Party</td>\n",
              "        </tr>\n",
              "        <tr>\n",
              "            <td>Winston</td>\n",
              "            <td>Waffle</td>\n",
              "            <td>Brunch Party</td>\n",
              "        </tr>\n",
              "        <tr>\n",
              "            <td>Samantha</td>\n",
              "            <td>Syrup</td>\n",
              "            <td>Brunch Party</td>\n",
              "        </tr>\n",
              "        <tr>\n",
              "            <td>Larry</td>\n",
              "            <td>Lettuce</td>\n",
              "            <td>None</td>\n",
              "        </tr>\n",
              "        <tr>\n",
              "            <td>Fiona</td>\n",
              "            <td>Fizzle</td>\n",
              "            <td>Muffin Party</td>\n",
              "        </tr>\n",
              "        <tr>\n",
              "            <td>Harry</td>\n",
              "            <td>Hiccup</td>\n",
              "            <td>Waffle Party</td>\n",
              "        </tr>\n",
              "        <tr>\n",
              "            <td>Oliver</td>\n",
              "            <td>Onion</td>\n",
              "            <td>Pancake Party</td>\n",
              "        </tr>\n",
              "        <tr>\n",
              "            <td>Gwendolyn</td>\n",
              "            <td>Giraffe</td>\n",
              "            <td>Pancake Party</td>\n",
              "        </tr>\n",
              "        <tr>\n",
              "            <td>Peter</td>\n",
              "            <td>Pickle</td>\n",
              "            <td>Brunch Party</td>\n",
              "        </tr>\n",
              "        <tr>\n",
              "            <td>Emily</td>\n",
              "            <td>Eclair</td>\n",
              "            <td>Muffin Party</td>\n",
              "        </tr>\n",
              "        <tr>\n",
              "            <td>Roger</td>\n",
              "            <td>Rocket</td>\n",
              "            <td>Gravity Party</td>\n",
              "        </tr>\n",
              "        <tr>\n",
              "            <td>Giuseppe</td>\n",
              "            <td>Spaghetti</td>\n",
              "            <td>Gravity Party</td>\n",
              "        </tr>\n",
              "        <tr>\n",
              "            <td>Maria</td>\n",
              "            <td>Ravioli</td>\n",
              "            <td>Gravity Party</td>\n",
              "        </tr>\n",
              "    </tbody>\n",
              "</table>"
            ]
          },
          "metadata": {},
          "execution_count": 6
        }
      ]
    },
    {
      "cell_type": "markdown",
      "source": [
        "### Return for each constituency the average age (making use of the _aggregation function_ `AVG(·)`) of its members of parliament."
      ],
      "metadata": {
        "id": "4f0o4bpctzKl"
      }
    },
    {
      "cell_type": "code",
      "source": [
        "%%sql\n",
        "<<YOUR SOLUTION>>"
      ],
      "metadata": {
        "id": "FbWawFP5QzPu"
      },
      "execution_count": null,
      "outputs": []
    },
    {
      "cell_type": "code",
      "source": [
        "#@title Solution\n",
        "%%sql\n",
        "SELECT Constituency, AVG(Age) AS average_age\n",
        "FROM MembersOFParliament\n",
        "GROUP BY Constituency"
      ],
      "metadata": {
        "colab": {
          "base_uri": "https://localhost:8080/",
          "height": 179
        },
        "id": "ZZmYkLdnty5a",
        "outputId": "780c9269-9887-4ae4-bec5-c73dcbaee254",
        "cellView": "form"
      },
      "execution_count": 7,
      "outputs": [
        {
          "output_type": "stream",
          "name": "stdout",
          "text": [
            " * sqlite:///Parliament.db\n",
            "Done.\n"
          ]
        },
        {
          "output_type": "execute_result",
          "data": {
            "text/plain": [
              "[('Appleton', 153.33333333333334),\n",
              " ('Bologna', 179.0),\n",
              " ('Maple Ridge', 38.666666666666664),\n",
              " ('Salad Town', 49.666666666666664),\n",
              " ('Sugarland', 36.0)]"
            ],
            "text/html": [
              "<table>\n",
              "    <thead>\n",
              "        <tr>\n",
              "            <th>Constituency</th>\n",
              "            <th>average_age</th>\n",
              "        </tr>\n",
              "    </thead>\n",
              "    <tbody>\n",
              "        <tr>\n",
              "            <td>Appleton</td>\n",
              "            <td>153.33333333333334</td>\n",
              "        </tr>\n",
              "        <tr>\n",
              "            <td>Bologna</td>\n",
              "            <td>179.0</td>\n",
              "        </tr>\n",
              "        <tr>\n",
              "            <td>Maple Ridge</td>\n",
              "            <td>38.666666666666664</td>\n",
              "        </tr>\n",
              "        <tr>\n",
              "            <td>Salad Town</td>\n",
              "            <td>49.666666666666664</td>\n",
              "        </tr>\n",
              "        <tr>\n",
              "            <td>Sugarland</td>\n",
              "            <td>36.0</td>\n",
              "        </tr>\n",
              "    </tbody>\n",
              "</table>"
            ]
          },
          "metadata": {},
          "execution_count": 7
        }
      ]
    },
    {
      "cell_type": "markdown",
      "source": [
        "### List for each party the number of bills introduced successfully by one of its members (`Status` is *passed*). You may ignore parties that have no successful bills or bills introduced by members that have no party association."
      ],
      "metadata": {
        "id": "Y2c6eYEAt827"
      }
    },
    {
      "cell_type": "code",
      "source": [
        "%%sql\n",
        "<<YOUR SOLUTION>>"
      ],
      "metadata": {
        "id": "DtFmvM8oW5br"
      },
      "execution_count": null,
      "outputs": []
    },
    {
      "cell_type": "code",
      "source": [
        "#@title Solution\n",
        "%%sql\n",
        "SELECT Party, COUNT(DISTINCT BID) AS c\n",
        "FROM Bills AS B\n",
        "  INNER JOIN MembersOfParliament AS MP ON (B.IntBy = MP.MID)\n",
        "  INNER JOIN Parties USING (PID)\n",
        "WHERE\n",
        "  status = 'passed'\n",
        "GROUP BY\n",
        "  Party"
      ],
      "metadata": {
        "colab": {
          "base_uri": "https://localhost:8080/",
          "height": 95
        },
        "id": "rouXcyds3ERq",
        "outputId": "5839d619-9218-4ae5-f932-505d4054d95d",
        "cellView": "form"
      },
      "execution_count": 8,
      "outputs": [
        {
          "output_type": "stream",
          "name": "stdout",
          "text": [
            " * sqlite:///Parliament.db\n",
            "Done.\n"
          ]
        },
        {
          "output_type": "execute_result",
          "data": {
            "text/plain": [
              "[('Brunch Party', 1)]"
            ],
            "text/html": [
              "<table>\n",
              "    <thead>\n",
              "        <tr>\n",
              "            <th>Party</th>\n",
              "            <th>c</th>\n",
              "        </tr>\n",
              "    </thead>\n",
              "    <tbody>\n",
              "        <tr>\n",
              "            <td>Brunch Party</td>\n",
              "            <td>1</td>\n",
              "        </tr>\n",
              "    </tbody>\n",
              "</table>"
            ]
          },
          "metadata": {},
          "execution_count": 8
        }
      ]
    },
    {
      "cell_type": "markdown",
      "source": [
        "### Return all members of parliament (all fields of the table `MembersOfParliament`) who have not cast any vote yet, i.e., there is no entry in `Votes` with their `MID`."
      ],
      "metadata": {
        "id": "WSnd0NXluZRs"
      }
    },
    {
      "cell_type": "code",
      "source": [
        "%%sql\n",
        "<<YOUR SOLUTION>>"
      ],
      "metadata": {
        "id": "9DpWbEFQXEp1"
      },
      "execution_count": null,
      "outputs": []
    },
    {
      "cell_type": "code",
      "source": [
        "#@title Solution\n",
        "%%sql\n",
        "SELECT *\n",
        "FROM MembersOfParliament\n",
        "WHERE\n",
        "  MID NOT IN (SELECT MID FROM Votes)"
      ],
      "metadata": {
        "colab": {
          "base_uri": "https://localhost:8080/",
          "height": 95
        },
        "id": "fu9i5wiVuTTz",
        "outputId": "f04ca3bb-3b9f-4aa2-b418-b28ee65ae06a",
        "cellView": "form"
      },
      "execution_count": 9,
      "outputs": [
        {
          "output_type": "stream",
          "name": "stdout",
          "text": [
            " * sqlite:///Parliament.db\n",
            "Done.\n"
          ]
        },
        {
          "output_type": "execute_result",
          "data": {
            "text/plain": [
              "[(131, 'Maria', 'Ravioli', 37, 4, 'Bologna')]"
            ],
            "text/html": [
              "<table>\n",
              "    <thead>\n",
              "        <tr>\n",
              "            <th>MID</th>\n",
              "            <th>FName</th>\n",
              "            <th>LName</th>\n",
              "            <th>Age</th>\n",
              "            <th>PID</th>\n",
              "            <th>Constituency</th>\n",
              "        </tr>\n",
              "    </thead>\n",
              "    <tbody>\n",
              "        <tr>\n",
              "            <td>131</td>\n",
              "            <td>Maria</td>\n",
              "            <td>Ravioli</td>\n",
              "            <td>37</td>\n",
              "            <td>4</td>\n",
              "            <td>Bologna</td>\n",
              "        </tr>\n",
              "    </tbody>\n",
              "</table>"
            ]
          },
          "metadata": {},
          "execution_count": 9
        }
      ]
    },
    {
      "cell_type": "markdown",
      "source": [
        "### Return the (`DISTINCT`) title of the bills that i.) either are introduced ii.) or sponsored by a member of parliament without any party association (i.e., `PID` is `NULL`)"
      ],
      "metadata": {
        "id": "fNQFO2Lnu0el"
      }
    },
    {
      "cell_type": "code",
      "source": [
        "%%sql\n",
        "<<YOUR SOLUTION>>"
      ],
      "metadata": {
        "id": "si70it4ZXpCv"
      },
      "execution_count": null,
      "outputs": []
    },
    {
      "cell_type": "code",
      "source": [
        "#@title Solution\n",
        "%%sql\n",
        "SELECT Title\n",
        "FROM Bills AS B\n",
        "  INNER JOIN MembersOfParliament AS MP ON (B.IntBy = MP.MID)\n",
        "WHERE\n",
        "  PID IS NULL\n",
        "UNION\n",
        "SELECT Title\n",
        "FROM Bills AS B\n",
        "  INNER JOIN Sponsors AS S USING (BID)\n",
        "  INNER JOIN MembersOfParliament AS MP USING (MID)\n",
        "WHERE\n",
        "  PID IS NULL"
      ],
      "metadata": {
        "colab": {
          "base_uri": "https://localhost:8080/",
          "height": 95
        },
        "id": "8CfCXePcuxhB",
        "outputId": "13b62bde-dcce-4c58-e0e9-c936b9452b01",
        "cellView": "form"
      },
      "execution_count": 10,
      "outputs": [
        {
          "output_type": "stream",
          "name": "stdout",
          "text": [
            " * sqlite:///Parliament.db\n",
            "Done.\n"
          ]
        },
        {
          "output_type": "execute_result",
          "data": {
            "text/plain": [
              "[('The Lettuce Liberation Act',)]"
            ],
            "text/html": [
              "<table>\n",
              "    <thead>\n",
              "        <tr>\n",
              "            <th>Title</th>\n",
              "        </tr>\n",
              "    </thead>\n",
              "    <tbody>\n",
              "        <tr>\n",
              "            <td>The Lettuce Liberation Act</td>\n",
              "        </tr>\n",
              "    </tbody>\n",
              "</table>"
            ]
          },
          "metadata": {},
          "execution_count": 10
        }
      ]
    },
    {
      "cell_type": "markdown",
      "source": [
        "### Find the top 3 bills (`BID`, `Title`) that have the highest number of sponsors. Order the results in descending order by the number of sponsors. To simplify, there is no need to handle ties in the number of sponsoring members."
      ],
      "metadata": {
        "id": "Sr88eCilufa8"
      }
    },
    {
      "cell_type": "code",
      "source": [
        "%%sql\n",
        "<<YOUR SOLUTION>>"
      ],
      "metadata": {
        "id": "9kQJvYtgZYJO"
      },
      "execution_count": null,
      "outputs": []
    },
    {
      "cell_type": "code",
      "source": [
        "#@title Solution\n",
        "%%sql\n",
        "SELECT BID, Title, COUNT(DISTINCT MID) AS c\n",
        "FROM Bills\n",
        "  INNER JOIN Sponsors USING (BID)\n",
        "GROUP BY\n",
        "  BID, Title\n",
        "ORDER BY\n",
        "  c DESC\n",
        "LIMIT\n",
        "  3"
      ],
      "metadata": {
        "colab": {
          "base_uri": "https://localhost:8080/",
          "height": 137
        },
        "id": "nEojxtzAuc7t",
        "outputId": "3fd18361-7c79-417c-de71-10dd5f6dfae8",
        "cellView": "form"
      },
      "execution_count": 11,
      "outputs": [
        {
          "output_type": "stream",
          "name": "stdout",
          "text": [
            " * sqlite:///Parliament.db\n",
            "Done.\n"
          ]
        },
        {
          "output_type": "execute_result",
          "data": {
            "text/plain": [
              "[(132, 'The Lettuce Liberation Act', 4),\n",
              " (76, 'The Pickle Preservation Act', 2),\n",
              " (42, 'The Anti-Gravity Act', 1)]"
            ],
            "text/html": [
              "<table>\n",
              "    <thead>\n",
              "        <tr>\n",
              "            <th>BID</th>\n",
              "            <th>Title</th>\n",
              "            <th>c</th>\n",
              "        </tr>\n",
              "    </thead>\n",
              "    <tbody>\n",
              "        <tr>\n",
              "            <td>132</td>\n",
              "            <td>The Lettuce Liberation Act</td>\n",
              "            <td>4</td>\n",
              "        </tr>\n",
              "        <tr>\n",
              "            <td>76</td>\n",
              "            <td>The Pickle Preservation Act</td>\n",
              "            <td>2</td>\n",
              "        </tr>\n",
              "        <tr>\n",
              "            <td>42</td>\n",
              "            <td>The Anti-Gravity Act</td>\n",
              "            <td>1</td>\n",
              "        </tr>\n",
              "    </tbody>\n",
              "</table>"
            ]
          },
          "metadata": {},
          "execution_count": 11
        }
      ]
    },
    {
      "cell_type": "markdown",
      "source": [
        "### List all members of parliament (`MID`, `FName` and `LName`) that abstained (`Vote` is *abstention*) in at least 3 bills together with the number of abstentions."
      ],
      "metadata": {
        "id": "VhrJxZKPun0_"
      }
    },
    {
      "cell_type": "code",
      "source": [
        "%%sql\n",
        "<<YOUR SOLUTION>>"
      ],
      "metadata": {
        "id": "5Qwv_u0OZqLQ"
      },
      "execution_count": null,
      "outputs": []
    },
    {
      "cell_type": "code",
      "source": [
        "#@title Solution\n",
        "%%sql\n",
        "SELECT MID, FName, LName, COUNT(DISTINCT BID) AS c\n",
        "FROM MembersOfParliament\n",
        "  INNER JOIN Votes USING (MID)\n",
        "WHERE\n",
        "  vote = 'abstention'\n",
        "GROUP BY\n",
        "  MID, FName, LName\n",
        "HAVING\n",
        "  COUNT(DISTINCT BID) >= 3"
      ],
      "metadata": {
        "colab": {
          "base_uri": "https://localhost:8080/",
          "height": 116
        },
        "id": "yeXkkT-FuknX",
        "outputId": "9760a942-36b9-4996-854c-b7d6b1c6dc82",
        "cellView": "form"
      },
      "execution_count": 12,
      "outputs": [
        {
          "output_type": "stream",
          "name": "stdout",
          "text": [
            " * sqlite:///Parliament.db\n",
            "Done.\n"
          ]
        },
        {
          "output_type": "execute_result",
          "data": {
            "text/plain": [
              "[(3, 'Isaac', 'Noodleton', 4), (114, 'Roger', 'Rocket', 3)]"
            ],
            "text/html": [
              "<table>\n",
              "    <thead>\n",
              "        <tr>\n",
              "            <th>MID</th>\n",
              "            <th>FName</th>\n",
              "            <th>LName</th>\n",
              "            <th>c</th>\n",
              "        </tr>\n",
              "    </thead>\n",
              "    <tbody>\n",
              "        <tr>\n",
              "            <td>3</td>\n",
              "            <td>Isaac</td>\n",
              "            <td>Noodleton</td>\n",
              "            <td>4</td>\n",
              "        </tr>\n",
              "        <tr>\n",
              "            <td>114</td>\n",
              "            <td>Roger</td>\n",
              "            <td>Rocket</td>\n",
              "            <td>3</td>\n",
              "        </tr>\n",
              "    </tbody>\n",
              "</table>"
            ]
          },
          "metadata": {},
          "execution_count": 12
        }
      ]
    },
    {
      "cell_type": "markdown",
      "source": [
        "### Return for each bill that was not passed by the parliament (`status` is *failed*) the number of yes and the number no votes (ignoring the abstentions). The result schema should look as follows (without the need to mimic the data):"
      ],
      "metadata": {
        "id": "NUB7A7hYvDSB"
      }
    },
    {
      "cell_type": "markdown",
      "source": [
        "\\begin{array}{ccc}\n",
        "BID&Title&Description&Status&yes&no\\\\\n",
        "42&\\text{The Anti-Gravity Act}&...&\\text{failed}&34&52\n",
        "\\end{array}"
      ],
      "metadata": {
        "id": "YdVkIW3VwYaE"
      }
    },
    {
      "cell_type": "code",
      "source": [
        "%%sql\n",
        "<<YOUR SOLUTION>>"
      ],
      "metadata": {
        "id": "1BbVeYwTZ6kp"
      },
      "execution_count": null,
      "outputs": []
    },
    {
      "cell_type": "code",
      "source": [
        "#@title Solution\n",
        "%%sql\n",
        "SELECT B.BID, Title, Description, Status, yes, no\n",
        "FROM Bills AS B\n",
        "  INNER JOIN (SELECT BID, COUNT(DISTINCT MID) AS yes FROM Votes WHERE Vote = 'yes' GROUP BY BID) USING (BID)\n",
        "  INNER JOIN (SELECT BID, COUNT(DISTINCT MID) AS no FROM Votes WHERE Vote = 'no' GROUP BY BID) USING (BID)\n",
        "WHERE\n",
        "  status = 'failed'"
      ],
      "metadata": {
        "colab": {
          "base_uri": "https://localhost:8080/",
          "height": 116
        },
        "id": "zddGBT53u8yO",
        "outputId": "66db5bd9-0451-4343-8dba-f3c39da3ee16",
        "cellView": "form"
      },
      "execution_count": 13,
      "outputs": [
        {
          "output_type": "stream",
          "name": "stdout",
          "text": [
            " * sqlite:///Parliament.db\n",
            "Done.\n"
          ]
        },
        {
          "output_type": "execute_result",
          "data": {
            "text/plain": [
              "[(103, 'The Rocket Propulsion Initiative', 'This bill aims to allocate funds for research and development of rocket propulsion technology for public transportation.', 'failed', 2, 8),\n",
              " (154, 'The Waffle House Establishment Act', 'This bill aims to provide government funding for the establishment of waffle houses in every neighborhood, ensuring access to delicious waffles for all.', 'failed', 3, 7)]"
            ],
            "text/html": [
              "<table>\n",
              "    <thead>\n",
              "        <tr>\n",
              "            <th>BID</th>\n",
              "            <th>Title</th>\n",
              "            <th>Description</th>\n",
              "            <th>Status</th>\n",
              "            <th>yes</th>\n",
              "            <th>no</th>\n",
              "        </tr>\n",
              "    </thead>\n",
              "    <tbody>\n",
              "        <tr>\n",
              "            <td>103</td>\n",
              "            <td>The Rocket Propulsion Initiative</td>\n",
              "            <td>This bill aims to allocate funds for research and development of rocket propulsion technology for public transportation.</td>\n",
              "            <td>failed</td>\n",
              "            <td>2</td>\n",
              "            <td>8</td>\n",
              "        </tr>\n",
              "        <tr>\n",
              "            <td>154</td>\n",
              "            <td>The Waffle House Establishment Act</td>\n",
              "            <td>This bill aims to provide government funding for the establishment of waffle houses in every neighborhood, ensuring access to delicious waffles for all.</td>\n",
              "            <td>failed</td>\n",
              "            <td>3</td>\n",
              "            <td>7</td>\n",
              "        </tr>\n",
              "    </tbody>\n",
              "</table>"
            ]
          },
          "metadata": {},
          "execution_count": 13
        }
      ]
    }
  ]
}