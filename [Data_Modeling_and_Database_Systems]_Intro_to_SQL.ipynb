{
  "nbformat": 4,
  "nbformat_minor": 0,
  "metadata": {
    "colab": {
      "provenance": [],
      "authorship_tag": "ABX9TyNQ8LvzapAi8lT8Hiy1w5+w",
      "include_colab_link": true
    },
    "kernelspec": {
      "name": "python3",
      "display_name": "Python 3"
    },
    "language_info": {
      "name": "python"
    }
  },
  "cells": [
    {
      "cell_type": "markdown",
      "metadata": {
        "id": "view-in-github",
        "colab_type": "text"
      },
      "source": [
        "<a href=\"https://colab.research.google.com/github/ivangiangreco/tmp/blob/main/%5BData_Modeling_and_Database_Systems%5D_Intro_to_SQL.ipynb\" target=\"_parent\"><img src=\"https://colab.research.google.com/assets/colab-badge.svg\" alt=\"Open In Colab\"/></a>"
      ]
    },
    {
      "cell_type": "markdown",
      "source": [
        "University of Lucerne\n",
        "\n",
        "Data Modeling and Database Systems\n",
        "\n",
        "# Intro to SQL\n"
      ],
      "metadata": {
        "id": "g53qRDNumzMt"
      }
    },
    {
      "cell_type": "markdown",
      "source": [
        "## 1. Preparation\n",
        "\n",
        "We start by setting up a connection to our Students database, Students.db."
      ],
      "metadata": {
        "id": "QspxbqXvn-OL"
      }
    },
    {
      "cell_type": "code",
      "source": [
        "# download SQLite DB\n",
        "!wget https://unilu-dmdb.github.io/data/Students.db"
      ],
      "metadata": {
        "colab": {
          "base_uri": "https://localhost:8080/"
        },
        "id": "z4RkyVQSmzcB",
        "outputId": "42eca7ff-422f-4fae-bc00-edd171c467dd"
      },
      "execution_count": 1,
      "outputs": [
        {
          "output_type": "stream",
          "name": "stdout",
          "text": [
            "--2024-02-10 21:49:37--  https://unilu-dmdb.github.io/data/Students.db\n",
            "Resolving unilu-dmdb.github.io (unilu-dmdb.github.io)... 185.199.108.153, 185.199.109.153, 185.199.110.153, ...\n",
            "Connecting to unilu-dmdb.github.io (unilu-dmdb.github.io)|185.199.108.153|:443... connected.\n",
            "HTTP request sent, awaiting response... 200 OK\n",
            "Length: 20480 (20K) [application/octet-stream]\n",
            "Saving to: ‘Students.db’\n",
            "\n",
            "\rStudents.db           0%[                    ]       0  --.-KB/s               \rStudents.db         100%[===================>]  20.00K  --.-KB/s    in 0s      \n",
            "\n",
            "2024-02-10 21:49:37 (62.3 MB/s) - ‘Students.db’ saved [20480/20480]\n",
            "\n"
          ]
        }
      ]
    },
    {
      "cell_type": "code",
      "execution_count": 2,
      "metadata": {
        "id": "MFRaS-9HmE7p"
      },
      "outputs": [],
      "source": [
        "# load the SQL magic extension\n",
        "# https://github.com/catherinedevlin/ipython-sql\n",
        "# this extension allows us to connect to DBs and issue SQL command\n",
        "%load_ext sql\n",
        "\n",
        "# now we can use the magic extension to connect to our SQLite DB\n",
        "# use %sql to write an inline SQL command\n",
        "# use %%sql to write SQL commands in a cell\n",
        "%sql sqlite:///Students.db"
      ]
    },
    {
      "cell_type": "markdown",
      "source": [
        "For this exercise, we're utilizing SQLite 3. It's a compact and rapid relational database engine. SQLite databases are self-contained: each one resides in just a single file. Surprisingly, SQLite stands as the most utilized database engine globally. It's integrated into countless mobile devices (like Android or iOS phones) and serves as the backbone for storing data in numerous popular applications."
      ],
      "metadata": {
        "id": "jBFEYtW7oJa3"
      }
    },
    {
      "cell_type": "markdown",
      "source": [
        "The following tables are present in the file you just downloaded:"
      ],
      "metadata": {
        "id": "UhcAlAxDo1G_"
      }
    },
    {
      "cell_type": "code",
      "source": [
        "%%sql\n",
        "SELECT name FROM sqlite_master WHERE type='table' AND name NOT LIKE 'sqlite_%';"
      ],
      "metadata": {
        "colab": {
          "base_uri": "https://localhost:8080/",
          "height": 116
        },
        "id": "zP6kWccSnlv7",
        "outputId": "d084b97a-e494-49a5-d1c2-d1ee42a636fc"
      },
      "execution_count": 3,
      "outputs": [
        {
          "output_type": "stream",
          "name": "stdout",
          "text": [
            " * sqlite:///Students.db\n",
            "Done.\n"
          ]
        },
        {
          "output_type": "execute_result",
          "data": {
            "text/plain": [
              "[('Students',), ('Diplomas',)]"
            ],
            "text/html": [
              "<table>\n",
              "    <thead>\n",
              "        <tr>\n",
              "            <th>name</th>\n",
              "        </tr>\n",
              "    </thead>\n",
              "    <tbody>\n",
              "        <tr>\n",
              "            <td>Students</td>\n",
              "        </tr>\n",
              "        <tr>\n",
              "            <td>Diplomas</td>\n",
              "        </tr>\n",
              "    </tbody>\n",
              "</table>"
            ]
          },
          "metadata": {},
          "execution_count": 3
        }
      ]
    },
    {
      "cell_type": "markdown",
      "source": [
        "## 2. Queries"
      ],
      "metadata": {
        "id": "R2uYSOUto7Yx"
      }
    },
    {
      "cell_type": "markdown",
      "source": [
        "### Basic Queries"
      ],
      "metadata": {
        "id": "q5KcX-ncqh5O"
      }
    },
    {
      "cell_type": "code",
      "source": [
        "%%sql\n",
        "SELECT *\n",
        "FROM Students"
      ],
      "metadata": {
        "colab": {
          "base_uri": "https://localhost:8080/",
          "height": 200
        },
        "id": "jNMbuCHDnqc5",
        "outputId": "fb750a20-79ba-402c-a1f7-c88225fefb89"
      },
      "execution_count": 4,
      "outputs": [
        {
          "output_type": "stream",
          "name": "stdout",
          "text": [
            " * sqlite:///Students.db\n",
            "Done.\n"
          ]
        },
        {
          "output_type": "execute_result",
          "data": {
            "text/plain": [
              "[(1, 'Jessica', 'Bezos', 'USA', 1982),\n",
              " (2, 'Bill', 'Doors', 'USA', 1973),\n",
              " (3, 'Elona', 'Musk', 'Space', None),\n",
              " (4, 'Tim', 'Baker', 'USA', 1982),\n",
              " (5, 'Mark', 'Sugarhill', 'Metaverse', 2002),\n",
              " (6, 'Mark', 'Diverseen', None, 1993)]"
            ],
            "text/html": [
              "<table>\n",
              "    <thead>\n",
              "        <tr>\n",
              "            <th>studentID</th>\n",
              "            <th>fname</th>\n",
              "            <th>lname</th>\n",
              "            <th>lives_in</th>\n",
              "            <th>matric_year</th>\n",
              "        </tr>\n",
              "    </thead>\n",
              "    <tbody>\n",
              "        <tr>\n",
              "            <td>1</td>\n",
              "            <td>Jessica</td>\n",
              "            <td>Bezos</td>\n",
              "            <td>USA</td>\n",
              "            <td>1982</td>\n",
              "        </tr>\n",
              "        <tr>\n",
              "            <td>2</td>\n",
              "            <td>Bill</td>\n",
              "            <td>Doors</td>\n",
              "            <td>USA</td>\n",
              "            <td>1973</td>\n",
              "        </tr>\n",
              "        <tr>\n",
              "            <td>3</td>\n",
              "            <td>Elona</td>\n",
              "            <td>Musk</td>\n",
              "            <td>Space</td>\n",
              "            <td>None</td>\n",
              "        </tr>\n",
              "        <tr>\n",
              "            <td>4</td>\n",
              "            <td>Tim</td>\n",
              "            <td>Baker</td>\n",
              "            <td>USA</td>\n",
              "            <td>1982</td>\n",
              "        </tr>\n",
              "        <tr>\n",
              "            <td>5</td>\n",
              "            <td>Mark</td>\n",
              "            <td>Sugarhill</td>\n",
              "            <td>Metaverse</td>\n",
              "            <td>2002</td>\n",
              "        </tr>\n",
              "        <tr>\n",
              "            <td>6</td>\n",
              "            <td>Mark</td>\n",
              "            <td>Diverseen</td>\n",
              "            <td>None</td>\n",
              "            <td>1993</td>\n",
              "        </tr>\n",
              "    </tbody>\n",
              "</table>"
            ]
          },
          "metadata": {},
          "execution_count": 4
        }
      ]
    },
    {
      "cell_type": "code",
      "source": [
        "%%sql\n",
        "SELECT *\n",
        "FROM Students\n",
        "WHERE lname = 'Musk'"
      ],
      "metadata": {
        "colab": {
          "base_uri": "https://localhost:8080/",
          "height": 95
        },
        "id": "JqZ4fpIZpG_G",
        "outputId": "5b132d28-01c4-435c-d377-3d977689bdd5"
      },
      "execution_count": 5,
      "outputs": [
        {
          "output_type": "stream",
          "name": "stdout",
          "text": [
            " * sqlite:///Students.db\n",
            "Done.\n"
          ]
        },
        {
          "output_type": "execute_result",
          "data": {
            "text/plain": [
              "[(3, 'Elona', 'Musk', 'Space', None)]"
            ],
            "text/html": [
              "<table>\n",
              "    <thead>\n",
              "        <tr>\n",
              "            <th>studentID</th>\n",
              "            <th>fname</th>\n",
              "            <th>lname</th>\n",
              "            <th>lives_in</th>\n",
              "            <th>matric_year</th>\n",
              "        </tr>\n",
              "    </thead>\n",
              "    <tbody>\n",
              "        <tr>\n",
              "            <td>3</td>\n",
              "            <td>Elona</td>\n",
              "            <td>Musk</td>\n",
              "            <td>Space</td>\n",
              "            <td>None</td>\n",
              "        </tr>\n",
              "    </tbody>\n",
              "</table>"
            ]
          },
          "metadata": {},
          "execution_count": 5
        }
      ]
    },
    {
      "cell_type": "code",
      "source": [
        "%%sql\n",
        "SELECT *\n",
        "FROM Students\n",
        "WHERE matric_year = 1982"
      ],
      "metadata": {
        "colab": {
          "base_uri": "https://localhost:8080/",
          "height": 116
        },
        "id": "CTe0zUrUpTdX",
        "outputId": "221e1118-89d9-4147-f026-48e04101ecdf"
      },
      "execution_count": 6,
      "outputs": [
        {
          "output_type": "stream",
          "name": "stdout",
          "text": [
            " * sqlite:///Students.db\n",
            "Done.\n"
          ]
        },
        {
          "output_type": "execute_result",
          "data": {
            "text/plain": [
              "[(1, 'Jessica', 'Bezos', 'USA', 1982), (4, 'Tim', 'Baker', 'USA', 1982)]"
            ],
            "text/html": [
              "<table>\n",
              "    <thead>\n",
              "        <tr>\n",
              "            <th>studentID</th>\n",
              "            <th>fname</th>\n",
              "            <th>lname</th>\n",
              "            <th>lives_in</th>\n",
              "            <th>matric_year</th>\n",
              "        </tr>\n",
              "    </thead>\n",
              "    <tbody>\n",
              "        <tr>\n",
              "            <td>1</td>\n",
              "            <td>Jessica</td>\n",
              "            <td>Bezos</td>\n",
              "            <td>USA</td>\n",
              "            <td>1982</td>\n",
              "        </tr>\n",
              "        <tr>\n",
              "            <td>4</td>\n",
              "            <td>Tim</td>\n",
              "            <td>Baker</td>\n",
              "            <td>USA</td>\n",
              "            <td>1982</td>\n",
              "        </tr>\n",
              "    </tbody>\n",
              "</table>"
            ]
          },
          "metadata": {},
          "execution_count": 6
        }
      ]
    },
    {
      "cell_type": "code",
      "source": [
        "%%sql\n",
        "SELECT lname as lastname\n",
        "FROM Students\n",
        "WHERE lives_in = 'USA'"
      ],
      "metadata": {
        "colab": {
          "base_uri": "https://localhost:8080/",
          "height": 137
        },
        "id": "x0KGFug0pXhz",
        "outputId": "7623c95f-d468-4e8f-f2c3-67f937d5eaa0"
      },
      "execution_count": 7,
      "outputs": [
        {
          "output_type": "stream",
          "name": "stdout",
          "text": [
            " * sqlite:///Students.db\n",
            "Done.\n"
          ]
        },
        {
          "output_type": "execute_result",
          "data": {
            "text/plain": [
              "[('Bezos',), ('Doors',), ('Baker',)]"
            ],
            "text/html": [
              "<table>\n",
              "    <thead>\n",
              "        <tr>\n",
              "            <th>lastname</th>\n",
              "        </tr>\n",
              "    </thead>\n",
              "    <tbody>\n",
              "        <tr>\n",
              "            <td>Bezos</td>\n",
              "        </tr>\n",
              "        <tr>\n",
              "            <td>Doors</td>\n",
              "        </tr>\n",
              "        <tr>\n",
              "            <td>Baker</td>\n",
              "        </tr>\n",
              "    </tbody>\n",
              "</table>"
            ]
          },
          "metadata": {},
          "execution_count": 7
        }
      ]
    },
    {
      "cell_type": "code",
      "source": [
        "%%sql\n",
        "SELECT lname\n",
        "FROM Students\n",
        "WHERE lives_in IS NULL"
      ],
      "metadata": {
        "colab": {
          "base_uri": "https://localhost:8080/",
          "height": 95
        },
        "id": "00yxMDMrpyV4",
        "outputId": "439527e8-3bbb-484b-a8b3-766f89f73d13"
      },
      "execution_count": 8,
      "outputs": [
        {
          "output_type": "stream",
          "name": "stdout",
          "text": [
            " * sqlite:///Students.db\n",
            "Done.\n"
          ]
        },
        {
          "output_type": "execute_result",
          "data": {
            "text/plain": [
              "[('Diverseen',)]"
            ],
            "text/html": [
              "<table>\n",
              "    <thead>\n",
              "        <tr>\n",
              "            <th>lname</th>\n",
              "        </tr>\n",
              "    </thead>\n",
              "    <tbody>\n",
              "        <tr>\n",
              "            <td>Diverseen</td>\n",
              "        </tr>\n",
              "    </tbody>\n",
              "</table>"
            ]
          },
          "metadata": {},
          "execution_count": 8
        }
      ]
    },
    {
      "cell_type": "code",
      "source": [
        "%%sql\n",
        "SELECT DISTINCT fname\n",
        "FROM Students\n",
        "WHERE matric_year > 1990"
      ],
      "metadata": {
        "colab": {
          "base_uri": "https://localhost:8080/",
          "height": 95
        },
        "id": "-6PVM_lUp5tF",
        "outputId": "596366b5-5023-4dc1-cae7-af7600ecf7d5"
      },
      "execution_count": 9,
      "outputs": [
        {
          "output_type": "stream",
          "name": "stdout",
          "text": [
            " * sqlite:///Students.db\n",
            "Done.\n"
          ]
        },
        {
          "output_type": "execute_result",
          "data": {
            "text/plain": [
              "[('Mark',)]"
            ],
            "text/html": [
              "<table>\n",
              "    <thead>\n",
              "        <tr>\n",
              "            <th>fname</th>\n",
              "        </tr>\n",
              "    </thead>\n",
              "    <tbody>\n",
              "        <tr>\n",
              "            <td>Mark</td>\n",
              "        </tr>\n",
              "    </tbody>\n",
              "</table>"
            ]
          },
          "metadata": {},
          "execution_count": 9
        }
      ]
    },
    {
      "cell_type": "code",
      "source": [
        "%%sql\n",
        "SELECT lname, lives_in\n",
        "FROM Students\n",
        "WHERE lives_in NOT IN ('USA')"
      ],
      "metadata": {
        "colab": {
          "base_uri": "https://localhost:8080/",
          "height": 116
        },
        "id": "8_-qsL3Op-zt",
        "outputId": "cbdf27ca-a864-40c1-ef4c-bd0d86b3169f"
      },
      "execution_count": 10,
      "outputs": [
        {
          "output_type": "stream",
          "name": "stdout",
          "text": [
            " * sqlite:///Students.db\n",
            "Done.\n"
          ]
        },
        {
          "output_type": "execute_result",
          "data": {
            "text/plain": [
              "[('Musk', 'Space'), ('Sugarhill', 'Metaverse')]"
            ],
            "text/html": [
              "<table>\n",
              "    <thead>\n",
              "        <tr>\n",
              "            <th>lname</th>\n",
              "            <th>lives_in</th>\n",
              "        </tr>\n",
              "    </thead>\n",
              "    <tbody>\n",
              "        <tr>\n",
              "            <td>Musk</td>\n",
              "            <td>Space</td>\n",
              "        </tr>\n",
              "        <tr>\n",
              "            <td>Sugarhill</td>\n",
              "            <td>Metaverse</td>\n",
              "        </tr>\n",
              "    </tbody>\n",
              "</table>"
            ]
          },
          "metadata": {},
          "execution_count": 10
        }
      ]
    },
    {
      "cell_type": "code",
      "source": [
        "%%sql\n",
        "SELECT lname, matric_year\n",
        "FROM Students\n",
        "WHERE lives_in IN ('USA')\n",
        "ORDER BY matric_year ASC"
      ],
      "metadata": {
        "colab": {
          "base_uri": "https://localhost:8080/",
          "height": 137
        },
        "id": "gOKSFLzSqEdI",
        "outputId": "bc3807e5-b356-4a16-dc30-7a278195209c"
      },
      "execution_count": 11,
      "outputs": [
        {
          "output_type": "stream",
          "name": "stdout",
          "text": [
            " * sqlite:///Students.db\n",
            "Done.\n"
          ]
        },
        {
          "output_type": "execute_result",
          "data": {
            "text/plain": [
              "[('Doors', 1973), ('Bezos', 1982), ('Baker', 1982)]"
            ],
            "text/html": [
              "<table>\n",
              "    <thead>\n",
              "        <tr>\n",
              "            <th>lname</th>\n",
              "            <th>matric_year</th>\n",
              "        </tr>\n",
              "    </thead>\n",
              "    <tbody>\n",
              "        <tr>\n",
              "            <td>Doors</td>\n",
              "            <td>1973</td>\n",
              "        </tr>\n",
              "        <tr>\n",
              "            <td>Bezos</td>\n",
              "            <td>1982</td>\n",
              "        </tr>\n",
              "        <tr>\n",
              "            <td>Baker</td>\n",
              "            <td>1982</td>\n",
              "        </tr>\n",
              "    </tbody>\n",
              "</table>"
            ]
          },
          "metadata": {},
          "execution_count": 11
        }
      ]
    },
    {
      "cell_type": "code",
      "source": [
        "%%sql\n",
        "SELECT COUNT(*) AS c\n",
        "FROM Students"
      ],
      "metadata": {
        "colab": {
          "base_uri": "https://localhost:8080/",
          "height": 95
        },
        "id": "8uHtyHEbqLqX",
        "outputId": "e3b5c755-097c-4fc8-cdf4-8f6fb198aac6"
      },
      "execution_count": 12,
      "outputs": [
        {
          "output_type": "stream",
          "name": "stdout",
          "text": [
            " * sqlite:///Students.db\n",
            "Done.\n"
          ]
        },
        {
          "output_type": "execute_result",
          "data": {
            "text/plain": [
              "[(6,)]"
            ],
            "text/html": [
              "<table>\n",
              "    <thead>\n",
              "        <tr>\n",
              "            <th>c</th>\n",
              "        </tr>\n",
              "    </thead>\n",
              "    <tbody>\n",
              "        <tr>\n",
              "            <td>6</td>\n",
              "        </tr>\n",
              "    </tbody>\n",
              "</table>"
            ]
          },
          "metadata": {},
          "execution_count": 12
        }
      ]
    },
    {
      "cell_type": "code",
      "source": [
        "%%sql\n",
        "SELECT MAX(matric_year)\n",
        "FROM Students"
      ],
      "metadata": {
        "colab": {
          "base_uri": "https://localhost:8080/",
          "height": 95
        },
        "id": "DHQjpDC8qRf-",
        "outputId": "94949761-0926-448e-b0c8-836b893ef4f4"
      },
      "execution_count": 13,
      "outputs": [
        {
          "output_type": "stream",
          "name": "stdout",
          "text": [
            " * sqlite:///Students.db\n",
            "Done.\n"
          ]
        },
        {
          "output_type": "execute_result",
          "data": {
            "text/plain": [
              "[(2002,)]"
            ],
            "text/html": [
              "<table>\n",
              "    <thead>\n",
              "        <tr>\n",
              "            <th>MAX(matric_year)</th>\n",
              "        </tr>\n",
              "    </thead>\n",
              "    <tbody>\n",
              "        <tr>\n",
              "            <td>2002</td>\n",
              "        </tr>\n",
              "    </tbody>\n",
              "</table>"
            ]
          },
          "metadata": {},
          "execution_count": 13
        }
      ]
    },
    {
      "cell_type": "markdown",
      "source": [
        "### Joins"
      ],
      "metadata": {
        "id": "XQHQkN9eqqAx"
      }
    },
    {
      "cell_type": "code",
      "source": [
        "%%sql\n",
        "SELECT s.fname, s.lname, d.diploma\n",
        "FROM Students AS s, Diplomas AS d\n",
        "WHERE s.studentid = d.studentid"
      ],
      "metadata": {
        "colab": {
          "base_uri": "https://localhost:8080/",
          "height": 179
        },
        "id": "yDEd648nqtue",
        "outputId": "ece4a4dd-8888-4ef3-818d-15307889b955"
      },
      "execution_count": 14,
      "outputs": [
        {
          "output_type": "stream",
          "name": "stdout",
          "text": [
            " * sqlite:///Students.db\n",
            "Done.\n"
          ]
        },
        {
          "output_type": "execute_result",
          "data": {
            "text/plain": [
              "[('Jessica', 'Bezos', 'Bachelor of Science'),\n",
              " ('Bill', 'Doors', 'Honorary Doctorate'),\n",
              " ('Bill', 'Doors', 'Honorary Doctorate'),\n",
              " ('Tim', 'Baker', 'MBA'),\n",
              " ('Mark', 'Sugarhill', 'Honorary Doctorate')]"
            ],
            "text/html": [
              "<table>\n",
              "    <thead>\n",
              "        <tr>\n",
              "            <th>fname</th>\n",
              "            <th>lname</th>\n",
              "            <th>diploma</th>\n",
              "        </tr>\n",
              "    </thead>\n",
              "    <tbody>\n",
              "        <tr>\n",
              "            <td>Jessica</td>\n",
              "            <td>Bezos</td>\n",
              "            <td>Bachelor of Science</td>\n",
              "        </tr>\n",
              "        <tr>\n",
              "            <td>Bill</td>\n",
              "            <td>Doors</td>\n",
              "            <td>Honorary Doctorate</td>\n",
              "        </tr>\n",
              "        <tr>\n",
              "            <td>Bill</td>\n",
              "            <td>Doors</td>\n",
              "            <td>Honorary Doctorate</td>\n",
              "        </tr>\n",
              "        <tr>\n",
              "            <td>Tim</td>\n",
              "            <td>Baker</td>\n",
              "            <td>MBA</td>\n",
              "        </tr>\n",
              "        <tr>\n",
              "            <td>Mark</td>\n",
              "            <td>Sugarhill</td>\n",
              "            <td>Honorary Doctorate</td>\n",
              "        </tr>\n",
              "    </tbody>\n",
              "</table>"
            ]
          },
          "metadata": {},
          "execution_count": 14
        }
      ]
    },
    {
      "cell_type": "code",
      "source": [
        "%%sql\n",
        "SELECT s.fname, s.lname, d.diploma\n",
        "FROM Students AS s INNER JOIN Diplomas AS d ON (s.studentid = d.studentid)"
      ],
      "metadata": {
        "colab": {
          "base_uri": "https://localhost:8080/",
          "height": 179
        },
        "id": "fkxB6oF3q8Kt",
        "outputId": "0a2ab8cd-f97c-45e8-a75f-7b3a6426964a"
      },
      "execution_count": 15,
      "outputs": [
        {
          "output_type": "stream",
          "name": "stdout",
          "text": [
            " * sqlite:///Students.db\n",
            "Done.\n"
          ]
        },
        {
          "output_type": "execute_result",
          "data": {
            "text/plain": [
              "[('Jessica', 'Bezos', 'Bachelor of Science'),\n",
              " ('Bill', 'Doors', 'Honorary Doctorate'),\n",
              " ('Bill', 'Doors', 'Honorary Doctorate'),\n",
              " ('Tim', 'Baker', 'MBA'),\n",
              " ('Mark', 'Sugarhill', 'Honorary Doctorate')]"
            ],
            "text/html": [
              "<table>\n",
              "    <thead>\n",
              "        <tr>\n",
              "            <th>fname</th>\n",
              "            <th>lname</th>\n",
              "            <th>diploma</th>\n",
              "        </tr>\n",
              "    </thead>\n",
              "    <tbody>\n",
              "        <tr>\n",
              "            <td>Jessica</td>\n",
              "            <td>Bezos</td>\n",
              "            <td>Bachelor of Science</td>\n",
              "        </tr>\n",
              "        <tr>\n",
              "            <td>Bill</td>\n",
              "            <td>Doors</td>\n",
              "            <td>Honorary Doctorate</td>\n",
              "        </tr>\n",
              "        <tr>\n",
              "            <td>Bill</td>\n",
              "            <td>Doors</td>\n",
              "            <td>Honorary Doctorate</td>\n",
              "        </tr>\n",
              "        <tr>\n",
              "            <td>Tim</td>\n",
              "            <td>Baker</td>\n",
              "            <td>MBA</td>\n",
              "        </tr>\n",
              "        <tr>\n",
              "            <td>Mark</td>\n",
              "            <td>Sugarhill</td>\n",
              "            <td>Honorary Doctorate</td>\n",
              "        </tr>\n",
              "    </tbody>\n",
              "</table>"
            ]
          },
          "metadata": {},
          "execution_count": 15
        }
      ]
    },
    {
      "cell_type": "code",
      "source": [
        "%%sql\n",
        "SELECT s.fname, s.lname, d.diploma\n",
        "FROM Students AS s LEFT JOIN Diplomas AS d ON (s.studentid = d.studentid)"
      ],
      "metadata": {
        "colab": {
          "base_uri": "https://localhost:8080/",
          "height": 221
        },
        "id": "2b5p0gzvrBqg",
        "outputId": "27d97843-de14-4de9-bacf-27e7a5d39ba5"
      },
      "execution_count": 16,
      "outputs": [
        {
          "output_type": "stream",
          "name": "stdout",
          "text": [
            " * sqlite:///Students.db\n",
            "Done.\n"
          ]
        },
        {
          "output_type": "execute_result",
          "data": {
            "text/plain": [
              "[('Jessica', 'Bezos', 'Bachelor of Science'),\n",
              " ('Bill', 'Doors', 'Honorary Doctorate'),\n",
              " ('Bill', 'Doors', 'Honorary Doctorate'),\n",
              " ('Elona', 'Musk', None),\n",
              " ('Tim', 'Baker', 'MBA'),\n",
              " ('Mark', 'Sugarhill', 'Honorary Doctorate'),\n",
              " ('Mark', 'Diverseen', None)]"
            ],
            "text/html": [
              "<table>\n",
              "    <thead>\n",
              "        <tr>\n",
              "            <th>fname</th>\n",
              "            <th>lname</th>\n",
              "            <th>diploma</th>\n",
              "        </tr>\n",
              "    </thead>\n",
              "    <tbody>\n",
              "        <tr>\n",
              "            <td>Jessica</td>\n",
              "            <td>Bezos</td>\n",
              "            <td>Bachelor of Science</td>\n",
              "        </tr>\n",
              "        <tr>\n",
              "            <td>Bill</td>\n",
              "            <td>Doors</td>\n",
              "            <td>Honorary Doctorate</td>\n",
              "        </tr>\n",
              "        <tr>\n",
              "            <td>Bill</td>\n",
              "            <td>Doors</td>\n",
              "            <td>Honorary Doctorate</td>\n",
              "        </tr>\n",
              "        <tr>\n",
              "            <td>Elona</td>\n",
              "            <td>Musk</td>\n",
              "            <td>None</td>\n",
              "        </tr>\n",
              "        <tr>\n",
              "            <td>Tim</td>\n",
              "            <td>Baker</td>\n",
              "            <td>MBA</td>\n",
              "        </tr>\n",
              "        <tr>\n",
              "            <td>Mark</td>\n",
              "            <td>Sugarhill</td>\n",
              "            <td>Honorary Doctorate</td>\n",
              "        </tr>\n",
              "        <tr>\n",
              "            <td>Mark</td>\n",
              "            <td>Diverseen</td>\n",
              "            <td>None</td>\n",
              "        </tr>\n",
              "    </tbody>\n",
              "</table>"
            ]
          },
          "metadata": {},
          "execution_count": 16
        }
      ]
    },
    {
      "cell_type": "code",
      "source": [
        "%%sql\n",
        "SELECT s.fname, s.lname, d.diploma\n",
        "FROM Students AS s RIGHT JOIN Diplomas AS d ON (s.studentid = d.studentid)"
      ],
      "metadata": {
        "colab": {
          "base_uri": "https://localhost:8080/"
        },
        "id": "_e2WuntIrC_8",
        "outputId": "1738811e-912e-4803-8392-4a5c126e497e"
      },
      "execution_count": 17,
      "outputs": [
        {
          "output_type": "stream",
          "name": "stdout",
          "text": [
            " * sqlite:///Students.db\n",
            "(sqlite3.OperationalError) RIGHT and FULL OUTER JOINs are not currently supported\n",
            "[SQL: SELECT s.fname, s.lname, d.diploma\n",
            "FROM Students AS s RIGHT JOIN Diplomas AS d ON (s.studentid = d.studentid)]\n",
            "(Background on this error at: https://sqlalche.me/e/20/e3q8)\n"
          ]
        }
      ]
    },
    {
      "cell_type": "code",
      "source": [
        "%%sql\n",
        "SELECT s.fname, s.lname, d.diploma\n",
        "FROM Students AS s FULL OUTER JOIN Diplomas AS d ON (s.studentid = d.studentid)"
      ],
      "metadata": {
        "colab": {
          "base_uri": "https://localhost:8080/"
        },
        "id": "JHqt-1SHq7Kb",
        "outputId": "5b5f7e42-481e-43ac-e27e-1f47681208b9"
      },
      "execution_count": 18,
      "outputs": [
        {
          "output_type": "stream",
          "name": "stdout",
          "text": [
            " * sqlite:///Students.db\n",
            "(sqlite3.OperationalError) RIGHT and FULL OUTER JOINs are not currently supported\n",
            "[SQL: SELECT s.fname, s.lname, d.diploma\n",
            "FROM Students AS s FULL OUTER JOIN Diplomas AS d ON (s.studentid = d.studentid)]\n",
            "(Background on this error at: https://sqlalche.me/e/20/e3q8)\n"
          ]
        }
      ]
    },
    {
      "cell_type": "code",
      "source": [
        "%%sql\n",
        "SELECT s.fname, s.lname, d.diploma\n",
        "FROM Students AS s CROSS JOIN Diplomas AS d"
      ],
      "metadata": {
        "colab": {
          "base_uri": "https://localhost:8080/",
          "height": 830
        },
        "id": "I-TBQX6wrbEU",
        "outputId": "e0c1705a-8546-4740-c5cb-73ae95bae0fa"
      },
      "execution_count": 19,
      "outputs": [
        {
          "output_type": "stream",
          "name": "stdout",
          "text": [
            " * sqlite:///Students.db\n",
            "Done.\n"
          ]
        },
        {
          "output_type": "execute_result",
          "data": {
            "text/plain": [
              "[('Jessica', 'Bezos', 'Bachelor of Science'),\n",
              " ('Jessica', 'Bezos', 'Honorary Doctorate'),\n",
              " ('Jessica', 'Bezos', 'Honorary Doctorate'),\n",
              " ('Jessica', 'Bezos', 'MBA'),\n",
              " ('Jessica', 'Bezos', 'Honorary Doctorate'),\n",
              " ('Jessica', 'Bezos', 'Funny Award'),\n",
              " ('Bill', 'Doors', 'Bachelor of Science'),\n",
              " ('Bill', 'Doors', 'Honorary Doctorate'),\n",
              " ('Bill', 'Doors', 'Honorary Doctorate'),\n",
              " ('Bill', 'Doors', 'MBA'),\n",
              " ('Bill', 'Doors', 'Honorary Doctorate'),\n",
              " ('Bill', 'Doors', 'Funny Award'),\n",
              " ('Elona', 'Musk', 'Bachelor of Science'),\n",
              " ('Elona', 'Musk', 'Honorary Doctorate'),\n",
              " ('Elona', 'Musk', 'Honorary Doctorate'),\n",
              " ('Elona', 'Musk', 'MBA'),\n",
              " ('Elona', 'Musk', 'Honorary Doctorate'),\n",
              " ('Elona', 'Musk', 'Funny Award'),\n",
              " ('Tim', 'Baker', 'Bachelor of Science'),\n",
              " ('Tim', 'Baker', 'Honorary Doctorate'),\n",
              " ('Tim', 'Baker', 'Honorary Doctorate'),\n",
              " ('Tim', 'Baker', 'MBA'),\n",
              " ('Tim', 'Baker', 'Honorary Doctorate'),\n",
              " ('Tim', 'Baker', 'Funny Award'),\n",
              " ('Mark', 'Sugarhill', 'Bachelor of Science'),\n",
              " ('Mark', 'Sugarhill', 'Honorary Doctorate'),\n",
              " ('Mark', 'Sugarhill', 'Honorary Doctorate'),\n",
              " ('Mark', 'Sugarhill', 'MBA'),\n",
              " ('Mark', 'Sugarhill', 'Honorary Doctorate'),\n",
              " ('Mark', 'Sugarhill', 'Funny Award'),\n",
              " ('Mark', 'Diverseen', 'Bachelor of Science'),\n",
              " ('Mark', 'Diverseen', 'Honorary Doctorate'),\n",
              " ('Mark', 'Diverseen', 'Honorary Doctorate'),\n",
              " ('Mark', 'Diverseen', 'MBA'),\n",
              " ('Mark', 'Diverseen', 'Honorary Doctorate'),\n",
              " ('Mark', 'Diverseen', 'Funny Award')]"
            ],
            "text/html": [
              "<table>\n",
              "    <thead>\n",
              "        <tr>\n",
              "            <th>fname</th>\n",
              "            <th>lname</th>\n",
              "            <th>diploma</th>\n",
              "        </tr>\n",
              "    </thead>\n",
              "    <tbody>\n",
              "        <tr>\n",
              "            <td>Jessica</td>\n",
              "            <td>Bezos</td>\n",
              "            <td>Bachelor of Science</td>\n",
              "        </tr>\n",
              "        <tr>\n",
              "            <td>Jessica</td>\n",
              "            <td>Bezos</td>\n",
              "            <td>Honorary Doctorate</td>\n",
              "        </tr>\n",
              "        <tr>\n",
              "            <td>Jessica</td>\n",
              "            <td>Bezos</td>\n",
              "            <td>Honorary Doctorate</td>\n",
              "        </tr>\n",
              "        <tr>\n",
              "            <td>Jessica</td>\n",
              "            <td>Bezos</td>\n",
              "            <td>MBA</td>\n",
              "        </tr>\n",
              "        <tr>\n",
              "            <td>Jessica</td>\n",
              "            <td>Bezos</td>\n",
              "            <td>Honorary Doctorate</td>\n",
              "        </tr>\n",
              "        <tr>\n",
              "            <td>Jessica</td>\n",
              "            <td>Bezos</td>\n",
              "            <td>Funny Award</td>\n",
              "        </tr>\n",
              "        <tr>\n",
              "            <td>Bill</td>\n",
              "            <td>Doors</td>\n",
              "            <td>Bachelor of Science</td>\n",
              "        </tr>\n",
              "        <tr>\n",
              "            <td>Bill</td>\n",
              "            <td>Doors</td>\n",
              "            <td>Honorary Doctorate</td>\n",
              "        </tr>\n",
              "        <tr>\n",
              "            <td>Bill</td>\n",
              "            <td>Doors</td>\n",
              "            <td>Honorary Doctorate</td>\n",
              "        </tr>\n",
              "        <tr>\n",
              "            <td>Bill</td>\n",
              "            <td>Doors</td>\n",
              "            <td>MBA</td>\n",
              "        </tr>\n",
              "        <tr>\n",
              "            <td>Bill</td>\n",
              "            <td>Doors</td>\n",
              "            <td>Honorary Doctorate</td>\n",
              "        </tr>\n",
              "        <tr>\n",
              "            <td>Bill</td>\n",
              "            <td>Doors</td>\n",
              "            <td>Funny Award</td>\n",
              "        </tr>\n",
              "        <tr>\n",
              "            <td>Elona</td>\n",
              "            <td>Musk</td>\n",
              "            <td>Bachelor of Science</td>\n",
              "        </tr>\n",
              "        <tr>\n",
              "            <td>Elona</td>\n",
              "            <td>Musk</td>\n",
              "            <td>Honorary Doctorate</td>\n",
              "        </tr>\n",
              "        <tr>\n",
              "            <td>Elona</td>\n",
              "            <td>Musk</td>\n",
              "            <td>Honorary Doctorate</td>\n",
              "        </tr>\n",
              "        <tr>\n",
              "            <td>Elona</td>\n",
              "            <td>Musk</td>\n",
              "            <td>MBA</td>\n",
              "        </tr>\n",
              "        <tr>\n",
              "            <td>Elona</td>\n",
              "            <td>Musk</td>\n",
              "            <td>Honorary Doctorate</td>\n",
              "        </tr>\n",
              "        <tr>\n",
              "            <td>Elona</td>\n",
              "            <td>Musk</td>\n",
              "            <td>Funny Award</td>\n",
              "        </tr>\n",
              "        <tr>\n",
              "            <td>Tim</td>\n",
              "            <td>Baker</td>\n",
              "            <td>Bachelor of Science</td>\n",
              "        </tr>\n",
              "        <tr>\n",
              "            <td>Tim</td>\n",
              "            <td>Baker</td>\n",
              "            <td>Honorary Doctorate</td>\n",
              "        </tr>\n",
              "        <tr>\n",
              "            <td>Tim</td>\n",
              "            <td>Baker</td>\n",
              "            <td>Honorary Doctorate</td>\n",
              "        </tr>\n",
              "        <tr>\n",
              "            <td>Tim</td>\n",
              "            <td>Baker</td>\n",
              "            <td>MBA</td>\n",
              "        </tr>\n",
              "        <tr>\n",
              "            <td>Tim</td>\n",
              "            <td>Baker</td>\n",
              "            <td>Honorary Doctorate</td>\n",
              "        </tr>\n",
              "        <tr>\n",
              "            <td>Tim</td>\n",
              "            <td>Baker</td>\n",
              "            <td>Funny Award</td>\n",
              "        </tr>\n",
              "        <tr>\n",
              "            <td>Mark</td>\n",
              "            <td>Sugarhill</td>\n",
              "            <td>Bachelor of Science</td>\n",
              "        </tr>\n",
              "        <tr>\n",
              "            <td>Mark</td>\n",
              "            <td>Sugarhill</td>\n",
              "            <td>Honorary Doctorate</td>\n",
              "        </tr>\n",
              "        <tr>\n",
              "            <td>Mark</td>\n",
              "            <td>Sugarhill</td>\n",
              "            <td>Honorary Doctorate</td>\n",
              "        </tr>\n",
              "        <tr>\n",
              "            <td>Mark</td>\n",
              "            <td>Sugarhill</td>\n",
              "            <td>MBA</td>\n",
              "        </tr>\n",
              "        <tr>\n",
              "            <td>Mark</td>\n",
              "            <td>Sugarhill</td>\n",
              "            <td>Honorary Doctorate</td>\n",
              "        </tr>\n",
              "        <tr>\n",
              "            <td>Mark</td>\n",
              "            <td>Sugarhill</td>\n",
              "            <td>Funny Award</td>\n",
              "        </tr>\n",
              "        <tr>\n",
              "            <td>Mark</td>\n",
              "            <td>Diverseen</td>\n",
              "            <td>Bachelor of Science</td>\n",
              "        </tr>\n",
              "        <tr>\n",
              "            <td>Mark</td>\n",
              "            <td>Diverseen</td>\n",
              "            <td>Honorary Doctorate</td>\n",
              "        </tr>\n",
              "        <tr>\n",
              "            <td>Mark</td>\n",
              "            <td>Diverseen</td>\n",
              "            <td>Honorary Doctorate</td>\n",
              "        </tr>\n",
              "        <tr>\n",
              "            <td>Mark</td>\n",
              "            <td>Diverseen</td>\n",
              "            <td>MBA</td>\n",
              "        </tr>\n",
              "        <tr>\n",
              "            <td>Mark</td>\n",
              "            <td>Diverseen</td>\n",
              "            <td>Honorary Doctorate</td>\n",
              "        </tr>\n",
              "        <tr>\n",
              "            <td>Mark</td>\n",
              "            <td>Diverseen</td>\n",
              "            <td>Funny Award</td>\n",
              "        </tr>\n",
              "    </tbody>\n",
              "</table>"
            ]
          },
          "metadata": {},
          "execution_count": 19
        }
      ]
    }
  ]
}