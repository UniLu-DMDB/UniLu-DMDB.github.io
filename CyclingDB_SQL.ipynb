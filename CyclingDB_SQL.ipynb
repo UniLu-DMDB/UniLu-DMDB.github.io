{
  "nbformat": 4,
  "nbformat_minor": 0,
  "metadata": {
    "colab": {
      "provenance": [],
      "authorship_tag": "ABX9TyMOqqpzG/P5seCC0tjemwtP",
      "include_colab_link": true
    },
    "kernelspec": {
      "name": "python3",
      "display_name": "Python 3"
    },
    "language_info": {
      "name": "python"
    }
  },
  "cells": [
    {
      "cell_type": "markdown",
      "metadata": {
        "id": "view-in-github",
        "colab_type": "text"
      },
      "source": [
        "<a href=\"https://colab.research.google.com/github/UniLu-DMDB/UniLu-DMDB.github.io/blob/main/%5BData_Modeling_and_Database_Systems%5D_CyclingDB_SQL.ipynb\" target=\"_parent\"><img src=\"https://colab.research.google.com/assets/colab-badge.svg\" alt=\"Open In Colab\"/></a>"
      ]
    },
    {
      "cell_type": "markdown",
      "source": [
        "University of Lucerne\n",
        "\n",
        "Data Modeling and Database Systems\n",
        "\n",
        "# Exercises - CyclingDB - SQL\n"
      ],
      "metadata": {
        "id": "g53qRDNumzMt"
      }
    },
    {
      "cell_type": "markdown",
      "source": [
        "## 1. Preparation\n",
        "\n",
        "We start by setting up a connection to our Parliament database, Parliament.db."
      ],
      "metadata": {
        "id": "QspxbqXvn-OL"
      }
    },
    {
      "cell_type": "code",
      "source": [
        "# download SQLite DB\n",
        "!wget https://unilu-dmdb.github.io/data/cycling.db"
      ],
      "metadata": {
        "id": "z4RkyVQSmzcB"
      },
      "execution_count": 1,
      "outputs": []
    },
    {
      "cell_type": "code",
      "execution_count": 2,
      "metadata": {
        "id": "MFRaS-9HmE7p"
      },
      "outputs": [],
      "source": [
        "# load the SQL magic extension\n",
        "# https://github.com/catherinedevlin/ipython-sql\n",
        "# this extension allows us to connect to DBs and issue SQL command\n",
        "%load_ext sql\n",
        "\n",
        "# now we can use the magic extension to connect to our SQLite DB\n",
        "# use %sql to write an inline SQL command\n",
        "# use %%sql to write SQL commands in a cell\n",
        "%sql sqlite:///cycling.db"
      ]
    },
    {
      "cell_type": "markdown",
      "source": [
        "## 2. Exercises"
      ],
      "metadata": {
        "id": "R2uYSOUto7Yx"
      }
    },
    {
      "cell_type": "markdown",
      "source": [
        "Fill in the solutions and compare them to the results shown. If you want to see how to get to the results, click on \"Show code\" below the title \"Solution\"."
      ],
      "metadata": {
        "id": "xhO9FkOrNhIs"
      }
    },
    {
      "cell_type": "markdown",
      "source": [
        "### What are the names of all cyclists of the Lucerne 'Lucerne Lake Loop' 2024?"
      ],
      "metadata": {
        "id": "-VY3PWpSIAXR"
      }
    },
    {
      "cell_type": "code",
      "source": [
        "%%sql\n",
        "<<YOUR SOLUTION>>"
      ],
      "metadata": {
        "id": "0TP8uHpPIIAJ"
      },
      "execution_count": null,
      "outputs": []
    },
    {
      "cell_type": "code",
      "source": [
        "#@title Solution\n",
        "%%sql\n",
        "SELECT name\n",
        "FROM Cyclist c\n",
        "INNER JOIN StartingList sl USING (CID)\n",
        "INNER JOIN CyclingEvent ce USING (EvID)\n",
        "WHERE ce.EventName = 'Lucerne Lake Loop'\n",
        "AND ce.Year = '2024'"
      ],
      "metadata": {
        "colab": {
          "base_uri": "https://localhost:8080/",
          "height": 116
        },
        "id": "rFnrK7RDtAHn",
        "outputId": "9748f111-07d0-4632-8b99-c327decb08d2",
        "cellView": "form"
      },
      "execution_count": 3,
      "outputs": [
        {
          "output_type": "stream",
          "name": "stdout",
          "text": [
            " * sqlite:///cycling.db\n",
            "Done.\n"
          ]
        },
        {
          "output_type": "execute_result",
          "data": {
            "text/plain": [
              "[('Cuckoo Clock Carl',), ('Hearty Helga',)]"
            ],
            "text/html": [
              "<table>\n",
              "    <thead>\n",
              "        <tr>\n",
              "            <th>Name</th>\n",
              "        </tr>\n",
              "    </thead>\n",
              "    <tbody>\n",
              "        <tr>\n",
              "            <td>Cuckoo Clock Carl</td>\n",
              "        </tr>\n",
              "        <tr>\n",
              "            <td>Hearty Helga</td>\n",
              "        </tr>\n",
              "    </tbody>\n",
              "</table>"
            ]
          },
          "metadata": {},
          "execution_count": 3
        }
      ]
    },
    {
      "cell_type": "markdown",
      "source": [
        "### At which cycling events (return only the name) has 'Chocolate Charlie' participated so far? Note that the event should only appear once in the result list (even if the person participated to multiple tours of the event)."
      ],
      "metadata": {
        "id": "FQXBf9xWJIuE"
      }
    },
    {
      "cell_type": "code",
      "source": [
        "%%sql\n",
        "<<YOUR SOLUTION>>"
      ],
      "metadata": {
        "id": "x3EnvWUuJVka"
      },
      "execution_count": null,
      "outputs": []
    },
    {
      "cell_type": "code",
      "source": [
        "#@title Solution\n",
        "%%sql\n",
        "SELECT DISTINCT EventName\n",
        "FROM CyclingEvent ce\n",
        "INNER JOIN StartingList sl USING (EvID)\n",
        "INNER JOIN Cyclist c USING (CID)\n",
        "WHERE name = 'Chocolate Charlie'"
      ],
      "metadata": {
        "colab": {
          "base_uri": "https://localhost:8080/",
          "height": 116
        },
        "cellView": "form",
        "id": "1-RaVwjOJVIV",
        "outputId": "c80fbb8d-70e5-41f4-e047-92e09d6728d0"
      },
      "execution_count": 4,
      "outputs": [
        {
          "output_type": "stream",
          "name": "stdout",
          "text": [
            " * sqlite:///cycling.db\n",
            "Done.\n"
          ]
        },
        {
          "output_type": "execute_result",
          "data": {
            "text/plain": [
              "[('Lucerne Fun Ride',), ('Alps Adventure Tour',)]"
            ],
            "text/html": [
              "<table>\n",
              "    <thead>\n",
              "        <tr>\n",
              "            <th>EventName</th>\n",
              "        </tr>\n",
              "    </thead>\n",
              "    <tbody>\n",
              "        <tr>\n",
              "            <td>Lucerne Fun Ride</td>\n",
              "        </tr>\n",
              "        <tr>\n",
              "            <td>Alps Adventure Tour</td>\n",
              "        </tr>\n",
              "    </tbody>\n",
              "</table>"
            ]
          },
          "metadata": {},
          "execution_count": 4
        }
      ]
    },
    {
      "cell_type": "markdown",
      "source": [
        "### Which sponsors of the 'Lucerne Fun Ride' taking place in 2024 sponsored more than Fr. 10.-?"
      ],
      "metadata": {
        "id": "_-8ZPl0ZJ10Z"
      }
    },
    {
      "cell_type": "code",
      "source": [
        "%%sql\n",
        "<<YOUR SOLUTION>>"
      ],
      "metadata": {
        "id": "yOTj3PXQJ10b"
      },
      "execution_count": null,
      "outputs": []
    },
    {
      "cell_type": "code",
      "source": [
        "#@title Solution\n",
        "%%sql\n",
        "SELECT SponsorName\n",
        "FROM Sponsor s\n",
        "INNER JOIN CyclingEvent ce ON (s.EvID = ce.EvID)\n",
        "WHERE ce.EventName = 'Lucerne Fun Ride' AND ce.Year = '2024' AND s.AmountCHF >= 10"
      ],
      "metadata": {
        "colab": {
          "base_uri": "https://localhost:8080/",
          "height": 95
        },
        "cellView": "form",
        "outputId": "874a9d18-6936-42a7-bd67-c44dc09d7563",
        "id": "7QM9fgVYJ10b"
      },
      "execution_count": 5,
      "outputs": [
        {
          "output_type": "stream",
          "name": "stdout",
          "text": [
            " * sqlite:///cycling.db\n",
            "Done.\n"
          ]
        },
        {
          "output_type": "execute_result",
          "data": {
            "text/plain": [
              "[('Swiss Chocolate Co.',)]"
            ],
            "text/html": [
              "<table>\n",
              "    <thead>\n",
              "        <tr>\n",
              "            <th>SponsorName</th>\n",
              "        </tr>\n",
              "    </thead>\n",
              "    <tbody>\n",
              "        <tr>\n",
              "            <td>Swiss Chocolate Co.</td>\n",
              "        </tr>\n",
              "    </tbody>\n",
              "</table>"
            ]
          },
          "metadata": {},
          "execution_count": 5
        }
      ]
    },
    {
      "cell_type": "markdown",
      "source": [
        "### Return the top 3 locations by number of cycling events taking place at the given location."
      ],
      "metadata": {
        "id": "h3ho8AzNKVmD"
      }
    },
    {
      "cell_type": "code",
      "source": [
        "%%sql\n",
        "<<YOUR SOLUTION>>"
      ],
      "metadata": {
        "id": "FBlb5nTvKSYe"
      },
      "execution_count": null,
      "outputs": []
    },
    {
      "cell_type": "code",
      "source": [
        "#@title Solution\n",
        "%%sql\n",
        "SELECT Location\n",
        "FROM CyclingEvent ce\n",
        "INNER JOIN StartingList sl ON (sl.EvID = ce.EvID)\n",
        "GROUP BY Location\n",
        "ORDER BY COUNT(StartNumber) DESC\n",
        "LIMIT 3"
      ],
      "metadata": {
        "colab": {
          "base_uri": "https://localhost:8080/",
          "height": 137
        },
        "cellView": "form",
        "id": "GOxmo__sKZv8",
        "outputId": "4e73f1ad-4490-4c31-f5c5-406bc9a6eb4b"
      },
      "execution_count": 6,
      "outputs": [
        {
          "output_type": "stream",
          "name": "stdout",
          "text": [
            " * sqlite:///cycling.db\n",
            "Done.\n"
          ]
        },
        {
          "output_type": "execute_result",
          "data": {
            "text/plain": [
              "[('Lucerne',), ('Zurich',), ('Interlaken',)]"
            ],
            "text/html": [
              "<table>\n",
              "    <thead>\n",
              "        <tr>\n",
              "            <th>Location</th>\n",
              "        </tr>\n",
              "    </thead>\n",
              "    <tbody>\n",
              "        <tr>\n",
              "            <td>Lucerne</td>\n",
              "        </tr>\n",
              "        <tr>\n",
              "            <td>Zurich</td>\n",
              "        </tr>\n",
              "        <tr>\n",
              "            <td>Interlaken</td>\n",
              "        </tr>\n",
              "    </tbody>\n",
              "</table>"
            ]
          },
          "metadata": {},
          "execution_count": 6
        }
      ]
    },
    {
      "cell_type": "markdown",
      "source": [
        "### Return the number of cyclists for the cycling event 'Rhine Valley Ride' that took place in Zurich in 2024."
      ],
      "metadata": {
        "id": "DF2a4heqMOjJ"
      }
    },
    {
      "cell_type": "code",
      "source": [
        "%%sql\n",
        "<<YOUR SOLUTION>>"
      ],
      "metadata": {
        "id": "xXjyF1jCMaKT"
      },
      "execution_count": null,
      "outputs": []
    },
    {
      "cell_type": "code",
      "source": [
        "#@title Solution\n",
        "%%sql\n",
        "SELECT COUNT(StartNumber) AS c\n",
        "FROM CyclingEvent ce\n",
        "INNER JOIN StartingList sl ON (sl.EvID = ce.EvID)\n",
        "WHERE EventName = 'Rhine Valley Ride' AND Location = 'Zurich' AND Year = '2024'"
      ],
      "metadata": {
        "colab": {
          "base_uri": "https://localhost:8080/",
          "height": 95
        },
        "cellView": "form",
        "id": "jWzvtwTxKbX2",
        "outputId": "5a51c795-e9f1-4ed2-c317-5185690b1b4d"
      },
      "execution_count": 8,
      "outputs": [
        {
          "output_type": "stream",
          "name": "stdout",
          "text": [
            " * sqlite:///cycling.db\n",
            "Done.\n"
          ]
        },
        {
          "output_type": "execute_result",
          "data": {
            "text/plain": [
              "[(5,)]"
            ],
            "text/html": [
              "<table>\n",
              "    <thead>\n",
              "        <tr>\n",
              "            <th>c</th>\n",
              "        </tr>\n",
              "    </thead>\n",
              "    <tbody>\n",
              "        <tr>\n",
              "            <td>5</td>\n",
              "        </tr>\n",
              "    </tbody>\n",
              "</table>"
            ]
          },
          "metadata": {},
          "execution_count": 8
        }
      ]
    },
    {
      "cell_type": "markdown",
      "source": [
        "### List all distinct cyclist’s name who participated to a cycling event in 2024, but did not end the cycling tour, i.e., there is no result?"
      ],
      "metadata": {
        "id": "aKZ2U_9RM345"
      }
    },
    {
      "cell_type": "code",
      "source": [
        "%%sql\n",
        "<<YOUR SOLUTION>>"
      ],
      "metadata": {
        "id": "BgHOiUJlM3nu"
      },
      "execution_count": null,
      "outputs": []
    },
    {
      "cell_type": "code",
      "source": [
        "#@title Solution\n",
        "%%sql\n",
        "SELECT DISTINCT name\n",
        "FROM Cyclist c\n",
        "INNER JOIN StartingList sl ON (c.CID = sl.CID)\n",
        "INNER JOIN CyclingEvent ce ON (ce.EvID = sl.EvID)\n",
        "WHERE ce.Year = '2024'\n",
        "AND NOT EXISTS (SELECT * FROM Results r WHERE r.StartNumber = sl.StartNumber)"
      ],
      "metadata": {
        "colab": {
          "base_uri": "https://localhost:8080/",
          "height": 116
        },
        "cellView": "form",
        "id": "XzGAfJxtMykC",
        "outputId": "b131b647-854e-4e1a-dec9-5844b4d74730"
      },
      "execution_count": 10,
      "outputs": [
        {
          "output_type": "stream",
          "name": "stdout",
          "text": [
            " * sqlite:///cycling.db\n",
            "Done.\n"
          ]
        },
        {
          "output_type": "execute_result",
          "data": {
            "text/plain": [
              "[('Cheesehead Chloe',), ('Fondue Fiona',)]"
            ],
            "text/html": [
              "<table>\n",
              "    <thead>\n",
              "        <tr>\n",
              "            <th>Name</th>\n",
              "        </tr>\n",
              "    </thead>\n",
              "    <tbody>\n",
              "        <tr>\n",
              "            <td>Cheesehead Chloe</td>\n",
              "        </tr>\n",
              "        <tr>\n",
              "            <td>Fondue Fiona</td>\n",
              "        </tr>\n",
              "    </tbody>\n",
              "</table>"
            ]
          },
          "metadata": {},
          "execution_count": 10
        }
      ]
    }
  ]
}