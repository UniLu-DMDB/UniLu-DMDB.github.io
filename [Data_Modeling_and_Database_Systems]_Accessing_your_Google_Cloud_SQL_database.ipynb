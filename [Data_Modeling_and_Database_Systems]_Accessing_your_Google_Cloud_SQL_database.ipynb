{
  "nbformat": 4,
  "nbformat_minor": 0,
  "metadata": {
    "colab": {
      "provenance": [],
      "toc_visible": true,
      "include_colab_link": true
    },
    "kernelspec": {
      "name": "python3",
      "display_name": "Python 3"
    },
    "language_info": {
      "name": "python"
    }
  },
  "cells": [
    {
      "cell_type": "markdown",
      "metadata": {
        "id": "view-in-github",
        "colab_type": "text"
      },
      "source": [
        "<a href=\"https://colab.research.google.com/github/UniLu-DMDB/UniLu-DMDB.github.io/blob/main/%5BData_Modeling_and_Database_Systems%5D_Accessing_your_Google_Cloud_SQL_database.ipynb\" target=\"_parent\"><img src=\"https://colab.research.google.com/assets/colab-badge.svg\" alt=\"Open In Colab\"/></a>"
      ]
    },
    {
      "cell_type": "markdown",
      "source": [
        "University of Lucerne\n",
        "\n",
        "Data Modeling and Database Systems\n",
        "\n",
        "# Accessing your Google Cloud SQL database"
      ],
      "metadata": {
        "id": "7ylPxmTtdNHI"
      }
    },
    {
      "cell_type": "markdown",
      "source": [
        "for Google-hosted instances, get the IP and add it to the authorized networks"
      ],
      "metadata": {
        "id": "ho7M0GxWdRj4"
      }
    },
    {
      "cell_type": "code",
      "source": [
        "!curl ipecho.net/plain"
      ],
      "metadata": {
        "id": "dd3Rt8bFvEMd"
      },
      "execution_count": null,
      "outputs": []
    },
    {
      "cell_type": "code",
      "source": [
        "# initialize parameters\n",
        "DB_URL = \"\" # enter the public ip address of your instance and adjust parameters\n",
        "DB_USER = \"postgres\"\n",
        "DB_PASS = \"postgres\"\n",
        "DB_NAME = \"postgres\"\n",
        "DB_PORT = 5432"
      ],
      "metadata": {
        "id": "bCIQH6g-bIu9"
      },
      "execution_count": null,
      "outputs": []
    },
    {
      "cell_type": "markdown",
      "source": [
        "install and import packages"
      ],
      "metadata": {
        "id": "FOqVBTdevPK2"
      }
    },
    {
      "cell_type": "code",
      "source": [
        "import sys\n",
        "!{sys.executable} -m pip install cloud-sql-python-connector[\"pg8000\"] SQLAlchemy==2.0.7"
      ],
      "metadata": {
        "id": "ZSW7n0Mheyl-"
      },
      "execution_count": null,
      "outputs": []
    },
    {
      "cell_type": "code",
      "source": [
        "import pandas as pd\n",
        "import sqlalchemy\n",
        "from sqlalchemy import create_engine, text as sql_text"
      ],
      "metadata": {
        "id": "40rthp-Owb6Z"
      },
      "execution_count": null,
      "outputs": []
    },
    {
      "cell_type": "code",
      "source": [
        "url = sqlalchemy.engine.url.URL.create(\n",
        "            drivername=\"postgresql+pg8000\",\n",
        "            username=DB_USER,\n",
        "            password=DB_PASS,\n",
        "            host=DB_URL,\n",
        "            port=DB_PORT,\n",
        "            database=DB_NAME,\n",
        "        )\n",
        "\n",
        "engine = sqlalchemy.create_engine(url)"
      ],
      "metadata": {
        "id": "hTmPf6_qexhP"
      },
      "execution_count": null,
      "outputs": []
    },
    {
      "cell_type": "markdown",
      "source": [
        "**Option A**"
      ],
      "metadata": {
        "id": "PBIXW4VvxMl4"
      }
    },
    {
      "cell_type": "code",
      "source": [
        "with engine.connect() as db_conn:\n",
        "  results = db_conn.execute(sqlalchemy.text(\"SELECT * FROM students\")).fetchall()\n",
        "\n",
        "  for row in results:\n",
        "    print(row)"
      ],
      "metadata": {
        "id": "TN_EELXBuBlA"
      },
      "execution_count": null,
      "outputs": []
    },
    {
      "cell_type": "markdown",
      "source": [
        "**Option B**"
      ],
      "metadata": {
        "id": "71OCFmTsxPBj"
      }
    },
    {
      "cell_type": "code",
      "source": [
        "pd.read_sql_query(con=engine.connect(), sql=sql_text(\"SELECT * FROM Students\"))"
      ],
      "metadata": {
        "id": "aCh5CCEyvkud"
      },
      "execution_count": null,
      "outputs": []
    },
    {
      "cell_type": "markdown",
      "source": [
        "**Option C**"
      ],
      "metadata": {
        "id": "CIGMfyO5dFpU"
      }
    },
    {
      "cell_type": "code",
      "source": [
        "%load_ext sql"
      ],
      "metadata": {
        "id": "NHJVJXskdqtb"
      },
      "execution_count": null,
      "outputs": []
    },
    {
      "cell_type": "code",
      "source": [
        "%sql postgresql://$DB_USER:$DB_PASS@$DB_URL:$DB_PORT/$DB_NAME"
      ],
      "metadata": {
        "id": "8K2Y_qSAgdK5"
      },
      "execution_count": null,
      "outputs": []
    },
    {
      "cell_type": "code",
      "source": [
        "%%sql\n",
        "SELECT *\n",
        "FROM students"
      ],
      "metadata": {
        "id": "U2mSZqTVdniv"
      },
      "execution_count": null,
      "outputs": []
    },
    {
      "cell_type": "code",
      "source": [],
      "metadata": {
        "id": "txOituKCiIIr"
      },
      "execution_count": null,
      "outputs": []
    }
  ]
}